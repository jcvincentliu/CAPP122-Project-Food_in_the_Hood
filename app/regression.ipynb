{
 "cells": [
  {
   "cell_type": "markdown",
   "metadata": {},
   "source": [
    "### CAPP 30122 Project Food in the Hood - Regression Analysis\n",
    "\n",
    "In this part of the project, we use regression to conduct statistical inferences between crime rates and other demographic and health related variables. The purpose of this section is to explore the topic from an angle different from heatmap and decision tree. The main question to answer is what's the best model in explaining the crime rate? We got the solution through three regression models. \n",
    "\n",
    "A multivate regression usually has the form of $$Y = \\beta_0 + \\beta_1\\alpha + \\beta_2\\beta + ... + \\beta_n\\gamma$$\n",
    "where $\\alpha, \\beta, \\gamma$ represents the main effects. In some cases, interactions between main effects are also presented, however, we chose not to do so in our analysis as interactions add little senses to the perfection of our analysis. \n",
    "\n",
    "We use two pairs of criterias to compare the goodness of our models. The first pair is $R^2$ and $R_{adj}^2$, which collectively represented the proportion of $Y$ explained by $X_s$. Compared to original $R^2$, $R_{adj}^2$ penalizes on the number of predictors to find a balance between model simplicity/interpretability and model performance. For both of them, the larger the value, the greater the model.\n",
    "\n",
    "The second pair is $AIC$ and $BIC$. AIC stands for Akaike Information Criterion (AIC) and has the formula of $$AIC(M) = -2logL(M) + 2p(M)$$\n",
    "\n",
    "Comparatively, BIC stands for Bayesian Information Criterion and is represented by $$BIC(M) = -2logL(M) + p(M)logn$$\n",
    ", where M is the model and logL is the loglikelihood. \n",
    "\n",
    "For AIC and BIC, the smaller the value, the better the mode."
   ]
  },
  {
   "cell_type": "markdown",
   "metadata": {},
   "source": [
    "Now, we shall begin our analysis. We start with loading packages. We will primarily use `scipy` packages because it offers a comprehensive output similar to the `lm` table in R."
   ]
  },
  {
   "cell_type": "code",
   "execution_count": 2,
   "metadata": {},
   "outputs": [],
   "source": [
    "from sklearn import datasets, linear_model \n",
    "from sklearn.linear_model import LinearRegression \n",
    "import statsmodels.api as sm\n",
    "from scipy import stats\n",
    "import pandas as pd "
   ]
  },
  {
   "cell_type": "markdown",
   "metadata": {},
   "source": [
    "We use the dataset `food_data.csv`, which is merged from two datasets that were scapred from the Chicago Data Portal and Chicago Health Atlas. The dataset is already cleaned, therfore, we do not need to work more on data wrangling."
   ]
  },
  {
   "cell_type": "code",
   "execution_count": 4,
   "metadata": {},
   "outputs": [],
   "source": [
    "data_name = \"../data/food_data.csv\"\n",
    "data = pd.read_csv(data_name)"
   ]
  },
  {
   "cell_type": "markdown",
   "metadata": {},
   "source": [
    "In the first model, we put all of our predictors on the right side of the regression formula in order to find potential statistical signifiance between them and our outcome variable - crime rate. "
   ]
  },
  {
   "cell_type": "code",
   "execution_count": 5,
   "metadata": {},
   "outputs": [
    {
     "name": "stdout",
     "output_type": "stream",
     "text": [
      "                            OLS Regression Results                            \n",
      "==============================================================================\n",
      "Dep. Variable:             crime_rate   R-squared:                       0.646\n",
      "Model:                            OLS   Adj. R-squared:                  0.619\n",
      "Method:                 Least Squares   F-statistic:                     24.04\n",
      "Date:                Tue, 15 Mar 2022   Prob (F-statistic):           1.09e-13\n",
      "Time:                        15:22:38   Log-Likelihood:                -541.46\n",
      "No. Observations:                  72   AIC:                             1095.\n",
      "Df Residuals:                      66   BIC:                             1109.\n",
      "Df Model:                           5                                         \n",
      "Covariance Type:            nonrobust                                         \n",
      "===========================================================================================================\n",
      "                                              coef    std err          t      P>|t|      [0.025      0.975]\n",
      "-----------------------------------------------------------------------------------------------------------\n",
      "const                                    -573.2677    467.415     -1.226      0.224   -1506.491     359.956\n",
      "population                                  0.0002      0.003      0.076      0.940      -0.006       0.006\n",
      "poverty_rate                               56.7379      6.283      9.030      0.000      44.193      69.283\n",
      "low_food_access                             1.4434      2.611      0.553      0.582      -3.769       6.655\n",
      "adult_fruit_and_vegetable_servings_rate    10.8397      9.361      1.158      0.251      -7.850      29.529\n",
      "adult_soda_consumption_rate                 9.1671      6.889      1.331      0.188      -4.587      22.921\n",
      "==============================================================================\n",
      "Omnibus:                       25.047   Durbin-Watson:                   1.353\n",
      "Prob(Omnibus):                  0.000   Jarque-Bera (JB):               59.060\n",
      "Skew:                           1.097   Prob(JB):                     1.50e-13\n",
      "Kurtosis:                       6.857   Cond. No.                     3.58e+05\n",
      "==============================================================================\n",
      "\n",
      "Notes:\n",
      "[1] Standard Errors assume that the covariance matrix of the errors is correctly specified.\n",
      "[2] The condition number is large, 3.58e+05. This might indicate that there are\n",
      "strong multicollinearity or other numerical problems.\n"
     ]
    }
   ],
   "source": [
    "X = data[[\"population\", \"poverty_rate\",  \"low_food_access\", \"adult_fruit_and_vegetable_servings_rate\", \"adult_soda_consumption_rate\"]]\n",
    "y = data[\"crime_rate\"]\n",
    "\n",
    "X2 = sm.add_constant(X) \n",
    "est = sm.OLS(y, X2)\n",
    "est2 = est.fit()\n",
    "print(est2.summary())"
   ]
  },
  {
   "cell_type": "markdown",
   "metadata": {},
   "source": [
    "The model explained $61.9\\%$ ($R_{adj}^2$) of variance in crime rates. Very surprisingly, only poverty rate is statistically signifiant in inferring crime rates of a neighborhood ($p$ < .05). This might be caused by internal validity issues (\"pseudo-zeros\") for which we continue out analysis. We only include health-related predictors in the second model."
   ]
  },
  {
   "cell_type": "code",
   "execution_count": 8,
   "metadata": {},
   "outputs": [
    {
     "name": "stdout",
     "output_type": "stream",
     "text": [
      "                            OLS Regression Results                            \n",
      "==============================================================================\n",
      "Dep. Variable:             crime_rate   R-squared:                       0.206\n",
      "Model:                            OLS   Adj. R-squared:                  0.171\n",
      "Method:                 Least Squares   F-statistic:                     5.869\n",
      "Date:                Wed, 16 Mar 2022   Prob (F-statistic):            0.00126\n",
      "Time:                        10:34:04   Log-Likelihood:                -570.51\n",
      "No. Observations:                  72   AIC:                             1149.\n",
      "Df Residuals:                      68   BIC:                             1158.\n",
      "Df Model:                           3                                         \n",
      "Covariance Type:            nonrobust                                         \n",
      "===========================================================================================================\n",
      "                                              coef    std err          t      P>|t|      [0.025      0.975]\n",
      "-----------------------------------------------------------------------------------------------------------\n",
      "const                                     441.8327    548.587      0.805      0.423    -652.855    1536.521\n",
      "low_food_access                             0.2647      3.654      0.072      0.942      -7.026       7.556\n",
      "adult_fruit_and_vegetable_servings_rate    -5.0125     13.051     -0.384      0.702     -31.055      21.030\n",
      "adult_soda_consumption_rate                27.8415      9.227      3.017      0.004       9.429      46.254\n",
      "==============================================================================\n",
      "Omnibus:                       10.196   Durbin-Watson:                   0.968\n",
      "Prob(Omnibus):                  0.006   Jarque-Bera (JB):               10.259\n",
      "Skew:                           0.899   Prob(JB):                      0.00592\n",
      "Kurtosis:                       3.435   Cond. No.                         341.\n",
      "==============================================================================\n",
      "\n",
      "Notes:\n",
      "[1] Standard Errors assume that the covariance matrix of the errors is correctly specified.\n"
     ]
    }
   ],
   "source": [
    "X3 = sm.add_constant(X.iloc[:, 2:5]) \n",
    "est2 = sm.OLS(y, X3)\n",
    "est_fit = est2.fit()\n",
    "print(est_fit.summary())"
   ]
  },
  {
   "cell_type": "markdown",
   "metadata": {},
   "source": [
    "Only the adult soda consumption rate is statistically significant, though its p-value is very close to our threshold ($p$ = .05). Soda consumption rates seems to be positively correlated with our crime rate. It is interesting in terms of if soda consumptions serve as an intermediate variable/confounder in the process (i.e. poor people consumers more soda and poor people makes more crimes $\\rightarrow$ soda is related to crimes). This model is inferior than our first one as it has a extremely low $R^2$ and $R_{adj}^2$ and very high $AIC$ and $BIC$.\n",
    "\n",
    "In our final modle, we only use poverty rate and soda consumption rate as our predictors."
   ]
  },
  {
   "cell_type": "code",
   "execution_count": 9,
   "metadata": {},
   "outputs": [
    {
     "name": "stdout",
     "output_type": "stream",
     "text": [
      "                                 OLS Regression Results                                \n",
      "=======================================================================================\n",
      "Dep. Variable:             crime_rate   R-squared (uncentered):                   0.884\n",
      "Model:                            OLS   Adj. R-squared (uncentered):              0.880\n",
      "Method:                 Least Squares   F-statistic:                              265.5\n",
      "Date:                Wed, 16 Mar 2022   Prob (F-statistic):                    2.07e-33\n",
      "Time:                        10:39:31   Log-Likelihood:                         -542.69\n",
      "No. Observations:                  72   AIC:                                      1089.\n",
      "Df Residuals:                      70   BIC:                                      1094.\n",
      "Df Model:                           2                                                  \n",
      "Covariance Type:            nonrobust                                                  \n",
      "===============================================================================================\n",
      "                                  coef    std err          t      P>|t|      [0.025      0.975]\n",
      "-----------------------------------------------------------------------------------------------\n",
      "poverty_rate                   53.8073      5.840      9.213      0.000      42.160      65.455\n",
      "adult_soda_consumption_rate     3.4494      4.126      0.836      0.406      -4.779      11.678\n",
      "==============================================================================\n",
      "Omnibus:                       23.170   Durbin-Watson:                   1.345\n",
      "Prob(Omnibus):                  0.000   Jarque-Bera (JB):               47.053\n",
      "Skew:                           1.079   Prob(JB):                     6.06e-11\n",
      "Kurtosis:                       6.321   Cond. No.                         4.69\n",
      "==============================================================================\n",
      "\n",
      "Notes:\n",
      "[1] R² is computed without centering (uncentered) since the model does not contain a constant.\n",
      "[2] Standard Errors assume that the covariance matrix of the errors is correctly specified.\n"
     ]
    }
   ],
   "source": [
    "X4 = data[[\"poverty_rate\",  \"adult_soda_consumption_rate\"]]\n",
    "\n",
    "est3 = sm.OLS(y, X4)\n",
    "est_fit2 = est3.fit()\n",
    "print(est_fit2.summary())"
   ]
  },
  {
   "cell_type": "markdown",
   "metadata": {},
   "source": [
    "Very interestingly, now soda consumption is again not significant. However, this model has the highest model performance based on our four criterias. The question of why soda consumption is jumping between significant and insignificant shall be examined to a greater degree in future research. \n",
    "\n",
    "Because this model explains the most of $Y$ (crime rates), we regard it as our final model."
   ]
  }
 ],
 "metadata": {
  "interpreter": {
   "hash": "edb0ae1b0804fecb4fba6143541e04fd53a8019f59627cebc4dcfa9f7a439118"
  },
  "kernelspec": {
   "display_name": "Python 3.8.10 64-bit (windows store)",
   "language": "python",
   "name": "python3"
  },
  "language_info": {
   "codemirror_mode": {
    "name": "ipython",
    "version": 3
   },
   "file_extension": ".py",
   "mimetype": "text/x-python",
   "name": "python",
   "nbconvert_exporter": "python",
   "pygments_lexer": "ipython3",
   "version": "3.8.10"
  },
  "orig_nbformat": 4
 },
 "nbformat": 4,
 "nbformat_minor": 2
}
