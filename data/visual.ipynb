{
 "cells": [
  {
   "cell_type": "markdown",
   "metadata": {},
   "source": [
    "First, load all the necessary libraries"
   ]
  },
  {
   "cell_type": "code",
   "execution_count": 1,
   "metadata": {},
   "outputs": [],
   "source": [
    "import pandas as pd\n",
    "import chart_studio.plotly as py\n",
    "import plotly.offline as po\n",
    "import plotly.graph_objs as pg\n",
    "import plotly.express as px\n",
    "import matplotlib.pyplot as plt\n",
    "%matplotlib inline"
   ]
  },
  {
   "cell_type": "markdown",
   "metadata": {},
   "source": [
    "The following command renders plots to display inside a notebook file:"
   ]
  },
  {
   "cell_type": "code",
   "execution_count": 2,
   "metadata": {},
   "outputs": [
    {
     "data": {
      "text/html": [
       "        <script type=\"text/javascript\">\n",
       "        window.PlotlyConfig = {MathJaxConfig: 'local'};\n",
       "        if (window.MathJax) {MathJax.Hub.Config({SVG: {font: \"STIX-Web\"}});}\n",
       "        if (typeof require !== 'undefined') {\n",
       "        require.undef(\"plotly\");\n",
       "        requirejs.config({\n",
       "            paths: {\n",
       "                'plotly': ['https://cdn.plot.ly/plotly-2.9.0.min']\n",
       "            }\n",
       "        });\n",
       "        require(['plotly'], function(Plotly) {\n",
       "            window._Plotly = Plotly;\n",
       "        });\n",
       "        }\n",
       "        </script>\n",
       "        "
      ]
     },
     "metadata": {},
     "output_type": "display_data"
    }
   ],
   "source": [
    "po.init_notebook_mode(connected = True)"
   ]
  },
  {
   "cell_type": "markdown",
   "metadata": {},
   "source": [
    "First load the poverty and crime data"
   ]
  },
  {
   "cell_type": "code",
   "execution_count": 3,
   "metadata": {},
   "outputs": [
    {
     "data": {
      "text/html": [
       "<div>\n",
       "<style scoped>\n",
       "    .dataframe tbody tr th:only-of-type {\n",
       "        vertical-align: middle;\n",
       "    }\n",
       "\n",
       "    .dataframe tbody tr th {\n",
       "        vertical-align: top;\n",
       "    }\n",
       "\n",
       "    .dataframe thead th {\n",
       "        text-align: right;\n",
       "    }\n",
       "</style>\n",
       "<table border=\"1\" class=\"dataframe\">\n",
       "  <thead>\n",
       "    <tr style=\"text-align: right;\">\n",
       "      <th></th>\n",
       "      <th>community_area</th>\n",
       "      <th>community_area_name</th>\n",
       "      <th>assault_homicide</th>\n",
       "      <th>firearm_related</th>\n",
       "      <th>below_poverty_level</th>\n",
       "      <th>crowded_housing</th>\n",
       "      <th>dependency</th>\n",
       "      <th>no_high_school_diploma</th>\n",
       "      <th>per_capita_income</th>\n",
       "      <th>unemployment</th>\n",
       "    </tr>\n",
       "  </thead>\n",
       "  <tbody>\n",
       "    <tr>\n",
       "      <th>0</th>\n",
       "      <td>68</td>\n",
       "      <td>Englewood</td>\n",
       "      <td>45.1</td>\n",
       "      <td>44.9</td>\n",
       "      <td>42.2</td>\n",
       "      <td>4.8</td>\n",
       "      <td>43.4</td>\n",
       "      <td>29.4</td>\n",
       "      <td>11993</td>\n",
       "      <td>21.3</td>\n",
       "    </tr>\n",
       "    <tr>\n",
       "      <th>1</th>\n",
       "      <td>24</td>\n",
       "      <td>West Town</td>\n",
       "      <td>8.5</td>\n",
       "      <td>6.6</td>\n",
       "      <td>15.7</td>\n",
       "      <td>2.0</td>\n",
       "      <td>22.9</td>\n",
       "      <td>13.4</td>\n",
       "      <td>39596</td>\n",
       "      <td>6.0</td>\n",
       "    </tr>\n",
       "    <tr>\n",
       "      <th>2</th>\n",
       "      <td>37</td>\n",
       "      <td>Fuller Park</td>\n",
       "      <td>49.6</td>\n",
       "      <td>22.6</td>\n",
       "      <td>55.5</td>\n",
       "      <td>4.5</td>\n",
       "      <td>38.2</td>\n",
       "      <td>33.7</td>\n",
       "      <td>9016</td>\n",
       "      <td>40.0</td>\n",
       "    </tr>\n",
       "    <tr>\n",
       "      <th>3</th>\n",
       "      <td>25</td>\n",
       "      <td>Austin</td>\n",
       "      <td>34.4</td>\n",
       "      <td>28.5</td>\n",
       "      <td>27.0</td>\n",
       "      <td>5.7</td>\n",
       "      <td>39.0</td>\n",
       "      <td>25.0</td>\n",
       "      <td>15920</td>\n",
       "      <td>21.0</td>\n",
       "    </tr>\n",
       "    <tr>\n",
       "      <th>4</th>\n",
       "      <td>54</td>\n",
       "      <td>Riverdale</td>\n",
       "      <td>33.0</td>\n",
       "      <td>32.8</td>\n",
       "      <td>61.4</td>\n",
       "      <td>5.1</td>\n",
       "      <td>50.2</td>\n",
       "      <td>24.6</td>\n",
       "      <td>8535</td>\n",
       "      <td>26.4</td>\n",
       "    </tr>\n",
       "    <tr>\n",
       "      <th>5</th>\n",
       "      <td>26</td>\n",
       "      <td>West Garfield Park</td>\n",
       "      <td>40.0</td>\n",
       "      <td>36.0</td>\n",
       "      <td>40.3</td>\n",
       "      <td>8.9</td>\n",
       "      <td>42.5</td>\n",
       "      <td>26.2</td>\n",
       "      <td>10951</td>\n",
       "      <td>25.2</td>\n",
       "    </tr>\n",
       "    <tr>\n",
       "      <th>6</th>\n",
       "      <td>35</td>\n",
       "      <td>Douglas</td>\n",
       "      <td>13.6</td>\n",
       "      <td>9.1</td>\n",
       "      <td>26.1</td>\n",
       "      <td>1.6</td>\n",
       "      <td>31.0</td>\n",
       "      <td>16.9</td>\n",
       "      <td>23098</td>\n",
       "      <td>16.7</td>\n",
       "    </tr>\n",
       "    <tr>\n",
       "      <th>7</th>\n",
       "      <td>32</td>\n",
       "      <td>Loop</td>\n",
       "      <td>0.7</td>\n",
       "      <td>4.0</td>\n",
       "      <td>11.1</td>\n",
       "      <td>2.0</td>\n",
       "      <td>15.5</td>\n",
       "      <td>3.4</td>\n",
       "      <td>67699</td>\n",
       "      <td>4.2</td>\n",
       "    </tr>\n",
       "    <tr>\n",
       "      <th>8</th>\n",
       "      <td>8</td>\n",
       "      <td>Near North Side</td>\n",
       "      <td>3.7</td>\n",
       "      <td>3.2</td>\n",
       "      <td>13.4</td>\n",
       "      <td>2.0</td>\n",
       "      <td>23.3</td>\n",
       "      <td>3.4</td>\n",
       "      <td>87163</td>\n",
       "      <td>5.2</td>\n",
       "    </tr>\n",
       "    <tr>\n",
       "      <th>9</th>\n",
       "      <td>41</td>\n",
       "      <td>Hyde Park</td>\n",
       "      <td>5.8</td>\n",
       "      <td>5.0</td>\n",
       "      <td>18.2</td>\n",
       "      <td>2.5</td>\n",
       "      <td>26.7</td>\n",
       "      <td>5.3</td>\n",
       "      <td>39243</td>\n",
       "      <td>6.9</td>\n",
       "    </tr>\n",
       "  </tbody>\n",
       "</table>\n",
       "</div>"
      ],
      "text/plain": [
       "   community_area community_area_name  assault_homicide  firearm_related  \\\n",
       "0              68           Englewood              45.1             44.9   \n",
       "1              24           West Town               8.5              6.6   \n",
       "2              37         Fuller Park              49.6             22.6   \n",
       "3              25              Austin              34.4             28.5   \n",
       "4              54           Riverdale              33.0             32.8   \n",
       "5              26  West Garfield Park              40.0             36.0   \n",
       "6              35             Douglas              13.6              9.1   \n",
       "7              32                Loop               0.7              4.0   \n",
       "8               8     Near North Side               3.7              3.2   \n",
       "9              41           Hyde Park               5.8              5.0   \n",
       "\n",
       "   below_poverty_level  crowded_housing  dependency  no_high_school_diploma  \\\n",
       "0                 42.2              4.8        43.4                    29.4   \n",
       "1                 15.7              2.0        22.9                    13.4   \n",
       "2                 55.5              4.5        38.2                    33.7   \n",
       "3                 27.0              5.7        39.0                    25.0   \n",
       "4                 61.4              5.1        50.2                    24.6   \n",
       "5                 40.3              8.9        42.5                    26.2   \n",
       "6                 26.1              1.6        31.0                    16.9   \n",
       "7                 11.1              2.0        15.5                     3.4   \n",
       "8                 13.4              2.0        23.3                     3.4   \n",
       "9                 18.2              2.5        26.7                     5.3   \n",
       "\n",
       "   per_capita_income  unemployment  \n",
       "0              11993          21.3  \n",
       "1              39596           6.0  \n",
       "2               9016          40.0  \n",
       "3              15920          21.0  \n",
       "4               8535          26.4  \n",
       "5              10951          25.2  \n",
       "6              23098          16.7  \n",
       "7              67699           4.2  \n",
       "8              87163           5.2  \n",
       "9              39243           6.9  "
      ]
     },
     "execution_count": 3,
     "metadata": {},
     "output_type": "execute_result"
    }
   ],
   "source": [
    "poverty_crime = pd.read_csv(\"poverty_and_crime.csv\")\n",
    "poverty_crime.head(10)"
   ]
  },
  {
   "cell_type": "code",
   "execution_count": 78,
   "metadata": {},
   "outputs": [
    {
     "data": {
      "application/vnd.plotly.v1+json": {
       "config": {
        "plotlyServerURL": "https://plot.ly"
       },
       "data": [
        {
         "alignmentgroup": "True",
         "cliponaxis": false,
         "hovertemplate": "Community in Chicago=%{x}<br>Murders and Assaults=%{marker.color}<extra></extra>",
         "legendgroup": "",
         "marker": {
          "color": [
           45.1,
           8.5,
           49.6,
           34.4,
           33,
           40,
           13.6,
           0.7,
           3.7,
           5.8,
           3.3,
           1.4,
           3.7,
           1.8,
           15.2,
           4.7,
           5.6,
           3.3,
           5.8,
           4.8,
           1,
           4.9,
           0.7,
           4.7,
           0,
           5,
           7,
           3,
           3.5,
           4.1,
           5.8,
           5.1,
           4.8,
           10.7,
           11.7,
           12.7,
           12.7,
           11.1,
           10.8,
           2.2,
           16.6,
           5.9,
           11.1,
           9.4,
           4.7,
           22.4,
           45.2,
           10.7,
           19.9,
           8.6,
           7.7,
           32.2,
           38,
           5.4,
           6.9,
           12.4,
           9.9,
           41.3,
           19.5,
           31.1,
           32.1,
           43.9,
           37.6,
           26.6,
           22.1,
           70.3,
           36.9,
           44.6,
           47.2,
           18.9,
           8.6,
           49.7,
           29,
           33.4,
           40.9,
           38.4,
           46.7
          ],
          "coloraxis": "coloraxis",
          "pattern": {
           "shape": ""
          }
         },
         "name": "",
         "offsetgroup": "",
         "orientation": "v",
         "showlegend": false,
         "textangle": 0,
         "textfont": {
          "size": 12
         },
         "textposition": "outside",
         "type": "bar",
         "x": [
          "Englewood",
          "West Town",
          "Fuller Park",
          "Austin",
          "Riverdale",
          "West Garfield Park",
          "Douglas",
          "Loop",
          "Near North Side",
          "Hyde Park",
          "Forest Glen",
          "Lake View",
          "Dunning",
          "Armour Square",
          "Kenwood",
          "Norwood Park",
          "O'Hare",
          "Portage Park",
          "Edgewater",
          "Jefferson Park",
          "North Center",
          "Bridgeport",
          "Lincoln Park",
          "Avondale",
          "Edison Park",
          "Lincoln Square",
          "Belmont Cragin",
          "North Park",
          "Beverly",
          "Irving Park",
          "West Ridge",
          "McKinley Park",
          "Near South Side",
          "West Lawn",
          "Lower West Side",
          "Near West Side",
          "Hermosa",
          "South Lawndale",
          "Gage Park",
          "Mount Greenwood",
          "Archer Heights",
          "West Elsdon",
          "Brighton Park",
          "Clearing",
          "Albany Park",
          "Chicago Lawn",
          "Chatham",
          "East Side",
          "Morgan Park",
          "Logan Square",
          "Rogers Park",
          "Pullman",
          "Washington Heights",
          "Uptown",
          "Hegewisch",
          "Ashburn",
          "Garfield Ridge",
          "South Deering",
          "Calumet Heights",
          "Woodlawn",
          "Grand Boulevard",
          "West Pullman",
          "Auburn Gresham",
          "New City",
          "Avalon Park",
          "Burnside",
          "South Chicago",
          "Washington Park",
          "West Englewood",
          "Oakland",
          "Montclaire",
          "Greater Grand Crossing",
          "Humboldt Park",
          "South Shore",
          "Roseland",
          "East Garfield Park",
          "North Lawndale"
         ],
         "xaxis": "x",
         "y": [
          45.1,
          8.5,
          49.6,
          34.4,
          33,
          40,
          13.6,
          0.7,
          3.7,
          5.8,
          3.3,
          1.4,
          3.7,
          1.8,
          15.2,
          4.7,
          5.6,
          3.3,
          5.8,
          4.8,
          1,
          4.9,
          0.7,
          4.7,
          0,
          5,
          7,
          3,
          3.5,
          4.1,
          5.8,
          5.1,
          4.8,
          10.7,
          11.7,
          12.7,
          12.7,
          11.1,
          10.8,
          2.2,
          16.6,
          5.9,
          11.1,
          9.4,
          4.7,
          22.4,
          45.2,
          10.7,
          19.9,
          8.6,
          7.7,
          32.2,
          38,
          5.4,
          6.9,
          12.4,
          9.9,
          41.3,
          19.5,
          31.1,
          32.1,
          43.9,
          37.6,
          26.6,
          22.1,
          70.3,
          36.9,
          44.6,
          47.2,
          18.9,
          8.6,
          49.7,
          29,
          33.4,
          40.9,
          38.4,
          46.7
         ],
         "yaxis": "y"
        }
       ],
       "layout": {
        "barmode": "group",
        "coloraxis": {
         "cmax": 35,
         "cmin": 30,
         "colorbar": {
          "title": {
           "text": "Murders and Assaults"
          }
         },
         "colorscale": [
          [
           0,
           "rgb(255,245,240)"
          ],
          [
           0.125,
           "rgb(254,224,210)"
          ],
          [
           0.25,
           "rgb(252,187,161)"
          ],
          [
           0.375,
           "rgb(252,146,114)"
          ],
          [
           0.5,
           "rgb(251,106,74)"
          ],
          [
           0.625,
           "rgb(239,59,44)"
          ],
          [
           0.75,
           "rgb(203,24,29)"
          ],
          [
           0.875,
           "rgb(165,15,21)"
          ],
          [
           1,
           "rgb(103,0,13)"
          ]
         ]
        },
        "legend": {
         "tracegroupgap": 0
        },
        "template": {
         "data": {
          "bar": [
           {
            "error_x": {
             "color": "#2a3f5f"
            },
            "error_y": {
             "color": "#2a3f5f"
            },
            "marker": {
             "line": {
              "color": "#E5ECF6",
              "width": 0.5
             },
             "pattern": {
              "fillmode": "overlay",
              "size": 10,
              "solidity": 0.2
             }
            },
            "type": "bar"
           }
          ],
          "barpolar": [
           {
            "marker": {
             "line": {
              "color": "#E5ECF6",
              "width": 0.5
             },
             "pattern": {
              "fillmode": "overlay",
              "size": 10,
              "solidity": 0.2
             }
            },
            "type": "barpolar"
           }
          ],
          "carpet": [
           {
            "aaxis": {
             "endlinecolor": "#2a3f5f",
             "gridcolor": "white",
             "linecolor": "white",
             "minorgridcolor": "white",
             "startlinecolor": "#2a3f5f"
            },
            "baxis": {
             "endlinecolor": "#2a3f5f",
             "gridcolor": "white",
             "linecolor": "white",
             "minorgridcolor": "white",
             "startlinecolor": "#2a3f5f"
            },
            "type": "carpet"
           }
          ],
          "choropleth": [
           {
            "colorbar": {
             "outlinewidth": 0,
             "ticks": ""
            },
            "type": "choropleth"
           }
          ],
          "contour": [
           {
            "colorbar": {
             "outlinewidth": 0,
             "ticks": ""
            },
            "colorscale": [
             [
              0,
              "#0d0887"
             ],
             [
              0.1111111111111111,
              "#46039f"
             ],
             [
              0.2222222222222222,
              "#7201a8"
             ],
             [
              0.3333333333333333,
              "#9c179e"
             ],
             [
              0.4444444444444444,
              "#bd3786"
             ],
             [
              0.5555555555555556,
              "#d8576b"
             ],
             [
              0.6666666666666666,
              "#ed7953"
             ],
             [
              0.7777777777777778,
              "#fb9f3a"
             ],
             [
              0.8888888888888888,
              "#fdca26"
             ],
             [
              1,
              "#f0f921"
             ]
            ],
            "type": "contour"
           }
          ],
          "contourcarpet": [
           {
            "colorbar": {
             "outlinewidth": 0,
             "ticks": ""
            },
            "type": "contourcarpet"
           }
          ],
          "heatmap": [
           {
            "colorbar": {
             "outlinewidth": 0,
             "ticks": ""
            },
            "colorscale": [
             [
              0,
              "#0d0887"
             ],
             [
              0.1111111111111111,
              "#46039f"
             ],
             [
              0.2222222222222222,
              "#7201a8"
             ],
             [
              0.3333333333333333,
              "#9c179e"
             ],
             [
              0.4444444444444444,
              "#bd3786"
             ],
             [
              0.5555555555555556,
              "#d8576b"
             ],
             [
              0.6666666666666666,
              "#ed7953"
             ],
             [
              0.7777777777777778,
              "#fb9f3a"
             ],
             [
              0.8888888888888888,
              "#fdca26"
             ],
             [
              1,
              "#f0f921"
             ]
            ],
            "type": "heatmap"
           }
          ],
          "heatmapgl": [
           {
            "colorbar": {
             "outlinewidth": 0,
             "ticks": ""
            },
            "colorscale": [
             [
              0,
              "#0d0887"
             ],
             [
              0.1111111111111111,
              "#46039f"
             ],
             [
              0.2222222222222222,
              "#7201a8"
             ],
             [
              0.3333333333333333,
              "#9c179e"
             ],
             [
              0.4444444444444444,
              "#bd3786"
             ],
             [
              0.5555555555555556,
              "#d8576b"
             ],
             [
              0.6666666666666666,
              "#ed7953"
             ],
             [
              0.7777777777777778,
              "#fb9f3a"
             ],
             [
              0.8888888888888888,
              "#fdca26"
             ],
             [
              1,
              "#f0f921"
             ]
            ],
            "type": "heatmapgl"
           }
          ],
          "histogram": [
           {
            "marker": {
             "pattern": {
              "fillmode": "overlay",
              "size": 10,
              "solidity": 0.2
             }
            },
            "type": "histogram"
           }
          ],
          "histogram2d": [
           {
            "colorbar": {
             "outlinewidth": 0,
             "ticks": ""
            },
            "colorscale": [
             [
              0,
              "#0d0887"
             ],
             [
              0.1111111111111111,
              "#46039f"
             ],
             [
              0.2222222222222222,
              "#7201a8"
             ],
             [
              0.3333333333333333,
              "#9c179e"
             ],
             [
              0.4444444444444444,
              "#bd3786"
             ],
             [
              0.5555555555555556,
              "#d8576b"
             ],
             [
              0.6666666666666666,
              "#ed7953"
             ],
             [
              0.7777777777777778,
              "#fb9f3a"
             ],
             [
              0.8888888888888888,
              "#fdca26"
             ],
             [
              1,
              "#f0f921"
             ]
            ],
            "type": "histogram2d"
           }
          ],
          "histogram2dcontour": [
           {
            "colorbar": {
             "outlinewidth": 0,
             "ticks": ""
            },
            "colorscale": [
             [
              0,
              "#0d0887"
             ],
             [
              0.1111111111111111,
              "#46039f"
             ],
             [
              0.2222222222222222,
              "#7201a8"
             ],
             [
              0.3333333333333333,
              "#9c179e"
             ],
             [
              0.4444444444444444,
              "#bd3786"
             ],
             [
              0.5555555555555556,
              "#d8576b"
             ],
             [
              0.6666666666666666,
              "#ed7953"
             ],
             [
              0.7777777777777778,
              "#fb9f3a"
             ],
             [
              0.8888888888888888,
              "#fdca26"
             ],
             [
              1,
              "#f0f921"
             ]
            ],
            "type": "histogram2dcontour"
           }
          ],
          "mesh3d": [
           {
            "colorbar": {
             "outlinewidth": 0,
             "ticks": ""
            },
            "type": "mesh3d"
           }
          ],
          "parcoords": [
           {
            "line": {
             "colorbar": {
              "outlinewidth": 0,
              "ticks": ""
             }
            },
            "type": "parcoords"
           }
          ],
          "pie": [
           {
            "automargin": true,
            "type": "pie"
           }
          ],
          "scatter": [
           {
            "marker": {
             "colorbar": {
              "outlinewidth": 0,
              "ticks": ""
             }
            },
            "type": "scatter"
           }
          ],
          "scatter3d": [
           {
            "line": {
             "colorbar": {
              "outlinewidth": 0,
              "ticks": ""
             }
            },
            "marker": {
             "colorbar": {
              "outlinewidth": 0,
              "ticks": ""
             }
            },
            "type": "scatter3d"
           }
          ],
          "scattercarpet": [
           {
            "marker": {
             "colorbar": {
              "outlinewidth": 0,
              "ticks": ""
             }
            },
            "type": "scattercarpet"
           }
          ],
          "scattergeo": [
           {
            "marker": {
             "colorbar": {
              "outlinewidth": 0,
              "ticks": ""
             }
            },
            "type": "scattergeo"
           }
          ],
          "scattergl": [
           {
            "marker": {
             "colorbar": {
              "outlinewidth": 0,
              "ticks": ""
             }
            },
            "type": "scattergl"
           }
          ],
          "scattermapbox": [
           {
            "marker": {
             "colorbar": {
              "outlinewidth": 0,
              "ticks": ""
             }
            },
            "type": "scattermapbox"
           }
          ],
          "scatterpolar": [
           {
            "marker": {
             "colorbar": {
              "outlinewidth": 0,
              "ticks": ""
             }
            },
            "type": "scatterpolar"
           }
          ],
          "scatterpolargl": [
           {
            "marker": {
             "colorbar": {
              "outlinewidth": 0,
              "ticks": ""
             }
            },
            "type": "scatterpolargl"
           }
          ],
          "scatterternary": [
           {
            "marker": {
             "colorbar": {
              "outlinewidth": 0,
              "ticks": ""
             }
            },
            "type": "scatterternary"
           }
          ],
          "surface": [
           {
            "colorbar": {
             "outlinewidth": 0,
             "ticks": ""
            },
            "colorscale": [
             [
              0,
              "#0d0887"
             ],
             [
              0.1111111111111111,
              "#46039f"
             ],
             [
              0.2222222222222222,
              "#7201a8"
             ],
             [
              0.3333333333333333,
              "#9c179e"
             ],
             [
              0.4444444444444444,
              "#bd3786"
             ],
             [
              0.5555555555555556,
              "#d8576b"
             ],
             [
              0.6666666666666666,
              "#ed7953"
             ],
             [
              0.7777777777777778,
              "#fb9f3a"
             ],
             [
              0.8888888888888888,
              "#fdca26"
             ],
             [
              1,
              "#f0f921"
             ]
            ],
            "type": "surface"
           }
          ],
          "table": [
           {
            "cells": {
             "fill": {
              "color": "#EBF0F8"
             },
             "line": {
              "color": "white"
             }
            },
            "header": {
             "fill": {
              "color": "#C8D4E3"
             },
             "line": {
              "color": "white"
             }
            },
            "type": "table"
           }
          ]
         },
         "layout": {
          "annotationdefaults": {
           "arrowcolor": "#2a3f5f",
           "arrowhead": 0,
           "arrowwidth": 1
          },
          "autotypenumbers": "strict",
          "coloraxis": {
           "colorbar": {
            "outlinewidth": 0,
            "ticks": ""
           }
          },
          "colorscale": {
           "diverging": [
            [
             0,
             "#8e0152"
            ],
            [
             0.1,
             "#c51b7d"
            ],
            [
             0.2,
             "#de77ae"
            ],
            [
             0.3,
             "#f1b6da"
            ],
            [
             0.4,
             "#fde0ef"
            ],
            [
             0.5,
             "#f7f7f7"
            ],
            [
             0.6,
             "#e6f5d0"
            ],
            [
             0.7,
             "#b8e186"
            ],
            [
             0.8,
             "#7fbc41"
            ],
            [
             0.9,
             "#4d9221"
            ],
            [
             1,
             "#276419"
            ]
           ],
           "sequential": [
            [
             0,
             "#0d0887"
            ],
            [
             0.1111111111111111,
             "#46039f"
            ],
            [
             0.2222222222222222,
             "#7201a8"
            ],
            [
             0.3333333333333333,
             "#9c179e"
            ],
            [
             0.4444444444444444,
             "#bd3786"
            ],
            [
             0.5555555555555556,
             "#d8576b"
            ],
            [
             0.6666666666666666,
             "#ed7953"
            ],
            [
             0.7777777777777778,
             "#fb9f3a"
            ],
            [
             0.8888888888888888,
             "#fdca26"
            ],
            [
             1,
             "#f0f921"
            ]
           ],
           "sequentialminus": [
            [
             0,
             "#0d0887"
            ],
            [
             0.1111111111111111,
             "#46039f"
            ],
            [
             0.2222222222222222,
             "#7201a8"
            ],
            [
             0.3333333333333333,
             "#9c179e"
            ],
            [
             0.4444444444444444,
             "#bd3786"
            ],
            [
             0.5555555555555556,
             "#d8576b"
            ],
            [
             0.6666666666666666,
             "#ed7953"
            ],
            [
             0.7777777777777778,
             "#fb9f3a"
            ],
            [
             0.8888888888888888,
             "#fdca26"
            ],
            [
             1,
             "#f0f921"
            ]
           ]
          },
          "colorway": [
           "#636efa",
           "#EF553B",
           "#00cc96",
           "#ab63fa",
           "#FFA15A",
           "#19d3f3",
           "#FF6692",
           "#B6E880",
           "#FF97FF",
           "#FECB52"
          ],
          "font": {
           "color": "#2a3f5f"
          },
          "geo": {
           "bgcolor": "white",
           "lakecolor": "white",
           "landcolor": "#E5ECF6",
           "showlakes": true,
           "showland": true,
           "subunitcolor": "white"
          },
          "hoverlabel": {
           "align": "left"
          },
          "hovermode": "closest",
          "mapbox": {
           "style": "light"
          },
          "paper_bgcolor": "white",
          "plot_bgcolor": "#E5ECF6",
          "polar": {
           "angularaxis": {
            "gridcolor": "white",
            "linecolor": "white",
            "ticks": ""
           },
           "bgcolor": "#E5ECF6",
           "radialaxis": {
            "gridcolor": "white",
            "linecolor": "white",
            "ticks": ""
           }
          },
          "scene": {
           "xaxis": {
            "backgroundcolor": "#E5ECF6",
            "gridcolor": "white",
            "gridwidth": 2,
            "linecolor": "white",
            "showbackground": true,
            "ticks": "",
            "zerolinecolor": "white"
           },
           "yaxis": {
            "backgroundcolor": "#E5ECF6",
            "gridcolor": "white",
            "gridwidth": 2,
            "linecolor": "white",
            "showbackground": true,
            "ticks": "",
            "zerolinecolor": "white"
           },
           "zaxis": {
            "backgroundcolor": "#E5ECF6",
            "gridcolor": "white",
            "gridwidth": 2,
            "linecolor": "white",
            "showbackground": true,
            "ticks": "",
            "zerolinecolor": "white"
           }
          },
          "shapedefaults": {
           "line": {
            "color": "#2a3f5f"
           }
          },
          "ternary": {
           "aaxis": {
            "gridcolor": "white",
            "linecolor": "white",
            "ticks": ""
           },
           "baxis": {
            "gridcolor": "white",
            "linecolor": "white",
            "ticks": ""
           },
           "bgcolor": "#E5ECF6",
           "caxis": {
            "gridcolor": "white",
            "linecolor": "white",
            "ticks": ""
           }
          },
          "title": {
           "x": 0.05
          },
          "xaxis": {
           "automargin": true,
           "gridcolor": "white",
           "linecolor": "white",
           "ticks": "",
           "title": {
            "standoff": 15
           },
           "zerolinecolor": "white",
           "zerolinewidth": 2
          },
          "yaxis": {
           "automargin": true,
           "gridcolor": "white",
           "linecolor": "white",
           "ticks": "",
           "title": {
            "standoff": 15
           },
           "zerolinecolor": "white",
           "zerolinewidth": 2
          }
         }
        },
        "title": {
         "text": "The Assualt and Homicide Rates by Communities in Chicago"
        },
        "xaxis": {
         "anchor": "y",
         "categoryorder": "total descending",
         "domain": [
          0,
          1
         ],
         "tickangle": -45,
         "title": {
          "text": "Community in Chicago"
         }
        },
        "yaxis": {
         "anchor": "x",
         "domain": [
          0,
          1
         ],
         "title": {
          "text": "Murders and Assaults"
         }
        }
       }
      },
      "text/html": [
       "<div>                            <div id=\"37d0d709-05fa-4db1-a437-d731ad54ce9e\" class=\"plotly-graph-div\" style=\"height:525px; width:100%;\"></div>            <script type=\"text/javascript\">                require([\"plotly\"], function(Plotly) {                    window.PLOTLYENV=window.PLOTLYENV || {};                                    if (document.getElementById(\"37d0d709-05fa-4db1-a437-d731ad54ce9e\")) {                    Plotly.newPlot(                        \"37d0d709-05fa-4db1-a437-d731ad54ce9e\",                        [{\"alignmentgroup\":\"True\",\"hovertemplate\":\"Community in Chicago=%{x}<br>Murders and Assaults=%{marker.color}<extra></extra>\",\"legendgroup\":\"\",\"marker\":{\"color\":[45.1,8.5,49.6,34.4,33.0,40.0,13.6,0.7,3.7,5.8,3.3,1.4,3.7,1.8,15.2,4.7,5.6,3.3,5.8,4.8,1.0,4.9,0.7,4.7,0.0,5.0,7.0,3.0,3.5,4.1,5.8,5.1,4.8,10.7,11.7,12.7,12.7,11.1,10.8,2.2,16.6,5.9,11.1,9.4,4.7,22.4,45.2,10.7,19.9,8.6,7.7,32.2,38.0,5.4,6.9,12.4,9.9,41.3,19.5,31.1,32.1,43.9,37.6,26.6,22.1,70.3,36.9,44.6,47.2,18.9,8.6,49.7,29.0,33.4,40.9,38.4,46.7],\"coloraxis\":\"coloraxis\",\"pattern\":{\"shape\":\"\"}},\"name\":\"\",\"offsetgroup\":\"\",\"orientation\":\"v\",\"showlegend\":false,\"textposition\":\"outside\",\"x\":[\"Englewood\",\"West Town\",\"Fuller Park\",\"Austin\",\"Riverdale\",\"West Garfield Park\",\"Douglas\",\"Loop\",\"Near North Side\",\"Hyde Park\",\"Forest Glen\",\"Lake View\",\"Dunning\",\"Armour Square\",\"Kenwood\",\"Norwood Park\",\"O'Hare\",\"Portage Park\",\"Edgewater\",\"Jefferson Park\",\"North Center\",\"Bridgeport\",\"Lincoln Park\",\"Avondale\",\"Edison Park\",\"Lincoln Square\",\"Belmont Cragin\",\"North Park\",\"Beverly\",\"Irving Park\",\"West Ridge\",\"McKinley Park\",\"Near South Side\",\"West Lawn\",\"Lower West Side\",\"Near West Side\",\"Hermosa\",\"South Lawndale\",\"Gage Park\",\"Mount Greenwood\",\"Archer Heights\",\"West Elsdon\",\"Brighton Park\",\"Clearing\",\"Albany Park\",\"Chicago Lawn\",\"Chatham\",\"East Side\",\"Morgan Park\",\"Logan Square\",\"Rogers Park\",\"Pullman\",\"Washington Heights\",\"Uptown\",\"Hegewisch\",\"Ashburn\",\"Garfield Ridge\",\"South Deering\",\"Calumet Heights\",\"Woodlawn\",\"Grand Boulevard\",\"West Pullman\",\"Auburn Gresham\",\"New City\",\"Avalon Park\",\"Burnside\",\"South Chicago\",\"Washington Park\",\"West Englewood\",\"Oakland\",\"Montclaire\",\"Greater Grand Crossing\",\"Humboldt Park\",\"South Shore\",\"Roseland\",\"East Garfield Park\",\"North Lawndale\"],\"xaxis\":\"x\",\"y\":[45.1,8.5,49.6,34.4,33.0,40.0,13.6,0.7,3.7,5.8,3.3,1.4,3.7,1.8,15.2,4.7,5.6,3.3,5.8,4.8,1.0,4.9,0.7,4.7,0.0,5.0,7.0,3.0,3.5,4.1,5.8,5.1,4.8,10.7,11.7,12.7,12.7,11.1,10.8,2.2,16.6,5.9,11.1,9.4,4.7,22.4,45.2,10.7,19.9,8.6,7.7,32.2,38.0,5.4,6.9,12.4,9.9,41.3,19.5,31.1,32.1,43.9,37.6,26.6,22.1,70.3,36.9,44.6,47.2,18.9,8.6,49.7,29.0,33.4,40.9,38.4,46.7],\"yaxis\":\"y\",\"type\":\"bar\",\"textfont\":{\"size\":12},\"cliponaxis\":false,\"textangle\":0}],                        {\"template\":{\"data\":{\"bar\":[{\"error_x\":{\"color\":\"#2a3f5f\"},\"error_y\":{\"color\":\"#2a3f5f\"},\"marker\":{\"line\":{\"color\":\"#E5ECF6\",\"width\":0.5},\"pattern\":{\"fillmode\":\"overlay\",\"size\":10,\"solidity\":0.2}},\"type\":\"bar\"}],\"barpolar\":[{\"marker\":{\"line\":{\"color\":\"#E5ECF6\",\"width\":0.5},\"pattern\":{\"fillmode\":\"overlay\",\"size\":10,\"solidity\":0.2}},\"type\":\"barpolar\"}],\"carpet\":[{\"aaxis\":{\"endlinecolor\":\"#2a3f5f\",\"gridcolor\":\"white\",\"linecolor\":\"white\",\"minorgridcolor\":\"white\",\"startlinecolor\":\"#2a3f5f\"},\"baxis\":{\"endlinecolor\":\"#2a3f5f\",\"gridcolor\":\"white\",\"linecolor\":\"white\",\"minorgridcolor\":\"white\",\"startlinecolor\":\"#2a3f5f\"},\"type\":\"carpet\"}],\"choropleth\":[{\"colorbar\":{\"outlinewidth\":0,\"ticks\":\"\"},\"type\":\"choropleth\"}],\"contour\":[{\"colorbar\":{\"outlinewidth\":0,\"ticks\":\"\"},\"colorscale\":[[0.0,\"#0d0887\"],[0.1111111111111111,\"#46039f\"],[0.2222222222222222,\"#7201a8\"],[0.3333333333333333,\"#9c179e\"],[0.4444444444444444,\"#bd3786\"],[0.5555555555555556,\"#d8576b\"],[0.6666666666666666,\"#ed7953\"],[0.7777777777777778,\"#fb9f3a\"],[0.8888888888888888,\"#fdca26\"],[1.0,\"#f0f921\"]],\"type\":\"contour\"}],\"contourcarpet\":[{\"colorbar\":{\"outlinewidth\":0,\"ticks\":\"\"},\"type\":\"contourcarpet\"}],\"heatmap\":[{\"colorbar\":{\"outlinewidth\":0,\"ticks\":\"\"},\"colorscale\":[[0.0,\"#0d0887\"],[0.1111111111111111,\"#46039f\"],[0.2222222222222222,\"#7201a8\"],[0.3333333333333333,\"#9c179e\"],[0.4444444444444444,\"#bd3786\"],[0.5555555555555556,\"#d8576b\"],[0.6666666666666666,\"#ed7953\"],[0.7777777777777778,\"#fb9f3a\"],[0.8888888888888888,\"#fdca26\"],[1.0,\"#f0f921\"]],\"type\":\"heatmap\"}],\"heatmapgl\":[{\"colorbar\":{\"outlinewidth\":0,\"ticks\":\"\"},\"colorscale\":[[0.0,\"#0d0887\"],[0.1111111111111111,\"#46039f\"],[0.2222222222222222,\"#7201a8\"],[0.3333333333333333,\"#9c179e\"],[0.4444444444444444,\"#bd3786\"],[0.5555555555555556,\"#d8576b\"],[0.6666666666666666,\"#ed7953\"],[0.7777777777777778,\"#fb9f3a\"],[0.8888888888888888,\"#fdca26\"],[1.0,\"#f0f921\"]],\"type\":\"heatmapgl\"}],\"histogram\":[{\"marker\":{\"pattern\":{\"fillmode\":\"overlay\",\"size\":10,\"solidity\":0.2}},\"type\":\"histogram\"}],\"histogram2d\":[{\"colorbar\":{\"outlinewidth\":0,\"ticks\":\"\"},\"colorscale\":[[0.0,\"#0d0887\"],[0.1111111111111111,\"#46039f\"],[0.2222222222222222,\"#7201a8\"],[0.3333333333333333,\"#9c179e\"],[0.4444444444444444,\"#bd3786\"],[0.5555555555555556,\"#d8576b\"],[0.6666666666666666,\"#ed7953\"],[0.7777777777777778,\"#fb9f3a\"],[0.8888888888888888,\"#fdca26\"],[1.0,\"#f0f921\"]],\"type\":\"histogram2d\"}],\"histogram2dcontour\":[{\"colorbar\":{\"outlinewidth\":0,\"ticks\":\"\"},\"colorscale\":[[0.0,\"#0d0887\"],[0.1111111111111111,\"#46039f\"],[0.2222222222222222,\"#7201a8\"],[0.3333333333333333,\"#9c179e\"],[0.4444444444444444,\"#bd3786\"],[0.5555555555555556,\"#d8576b\"],[0.6666666666666666,\"#ed7953\"],[0.7777777777777778,\"#fb9f3a\"],[0.8888888888888888,\"#fdca26\"],[1.0,\"#f0f921\"]],\"type\":\"histogram2dcontour\"}],\"mesh3d\":[{\"colorbar\":{\"outlinewidth\":0,\"ticks\":\"\"},\"type\":\"mesh3d\"}],\"parcoords\":[{\"line\":{\"colorbar\":{\"outlinewidth\":0,\"ticks\":\"\"}},\"type\":\"parcoords\"}],\"pie\":[{\"automargin\":true,\"type\":\"pie\"}],\"scatter\":[{\"marker\":{\"colorbar\":{\"outlinewidth\":0,\"ticks\":\"\"}},\"type\":\"scatter\"}],\"scatter3d\":[{\"line\":{\"colorbar\":{\"outlinewidth\":0,\"ticks\":\"\"}},\"marker\":{\"colorbar\":{\"outlinewidth\":0,\"ticks\":\"\"}},\"type\":\"scatter3d\"}],\"scattercarpet\":[{\"marker\":{\"colorbar\":{\"outlinewidth\":0,\"ticks\":\"\"}},\"type\":\"scattercarpet\"}],\"scattergeo\":[{\"marker\":{\"colorbar\":{\"outlinewidth\":0,\"ticks\":\"\"}},\"type\":\"scattergeo\"}],\"scattergl\":[{\"marker\":{\"colorbar\":{\"outlinewidth\":0,\"ticks\":\"\"}},\"type\":\"scattergl\"}],\"scattermapbox\":[{\"marker\":{\"colorbar\":{\"outlinewidth\":0,\"ticks\":\"\"}},\"type\":\"scattermapbox\"}],\"scatterpolar\":[{\"marker\":{\"colorbar\":{\"outlinewidth\":0,\"ticks\":\"\"}},\"type\":\"scatterpolar\"}],\"scatterpolargl\":[{\"marker\":{\"colorbar\":{\"outlinewidth\":0,\"ticks\":\"\"}},\"type\":\"scatterpolargl\"}],\"scatterternary\":[{\"marker\":{\"colorbar\":{\"outlinewidth\":0,\"ticks\":\"\"}},\"type\":\"scatterternary\"}],\"surface\":[{\"colorbar\":{\"outlinewidth\":0,\"ticks\":\"\"},\"colorscale\":[[0.0,\"#0d0887\"],[0.1111111111111111,\"#46039f\"],[0.2222222222222222,\"#7201a8\"],[0.3333333333333333,\"#9c179e\"],[0.4444444444444444,\"#bd3786\"],[0.5555555555555556,\"#d8576b\"],[0.6666666666666666,\"#ed7953\"],[0.7777777777777778,\"#fb9f3a\"],[0.8888888888888888,\"#fdca26\"],[1.0,\"#f0f921\"]],\"type\":\"surface\"}],\"table\":[{\"cells\":{\"fill\":{\"color\":\"#EBF0F8\"},\"line\":{\"color\":\"white\"}},\"header\":{\"fill\":{\"color\":\"#C8D4E3\"},\"line\":{\"color\":\"white\"}},\"type\":\"table\"}]},\"layout\":{\"annotationdefaults\":{\"arrowcolor\":\"#2a3f5f\",\"arrowhead\":0,\"arrowwidth\":1},\"autotypenumbers\":\"strict\",\"coloraxis\":{\"colorbar\":{\"outlinewidth\":0,\"ticks\":\"\"}},\"colorscale\":{\"diverging\":[[0,\"#8e0152\"],[0.1,\"#c51b7d\"],[0.2,\"#de77ae\"],[0.3,\"#f1b6da\"],[0.4,\"#fde0ef\"],[0.5,\"#f7f7f7\"],[0.6,\"#e6f5d0\"],[0.7,\"#b8e186\"],[0.8,\"#7fbc41\"],[0.9,\"#4d9221\"],[1,\"#276419\"]],\"sequential\":[[0.0,\"#0d0887\"],[0.1111111111111111,\"#46039f\"],[0.2222222222222222,\"#7201a8\"],[0.3333333333333333,\"#9c179e\"],[0.4444444444444444,\"#bd3786\"],[0.5555555555555556,\"#d8576b\"],[0.6666666666666666,\"#ed7953\"],[0.7777777777777778,\"#fb9f3a\"],[0.8888888888888888,\"#fdca26\"],[1.0,\"#f0f921\"]],\"sequentialminus\":[[0.0,\"#0d0887\"],[0.1111111111111111,\"#46039f\"],[0.2222222222222222,\"#7201a8\"],[0.3333333333333333,\"#9c179e\"],[0.4444444444444444,\"#bd3786\"],[0.5555555555555556,\"#d8576b\"],[0.6666666666666666,\"#ed7953\"],[0.7777777777777778,\"#fb9f3a\"],[0.8888888888888888,\"#fdca26\"],[1.0,\"#f0f921\"]]},\"colorway\":[\"#636efa\",\"#EF553B\",\"#00cc96\",\"#ab63fa\",\"#FFA15A\",\"#19d3f3\",\"#FF6692\",\"#B6E880\",\"#FF97FF\",\"#FECB52\"],\"font\":{\"color\":\"#2a3f5f\"},\"geo\":{\"bgcolor\":\"white\",\"lakecolor\":\"white\",\"landcolor\":\"#E5ECF6\",\"showlakes\":true,\"showland\":true,\"subunitcolor\":\"white\"},\"hoverlabel\":{\"align\":\"left\"},\"hovermode\":\"closest\",\"mapbox\":{\"style\":\"light\"},\"paper_bgcolor\":\"white\",\"plot_bgcolor\":\"#E5ECF6\",\"polar\":{\"angularaxis\":{\"gridcolor\":\"white\",\"linecolor\":\"white\",\"ticks\":\"\"},\"bgcolor\":\"#E5ECF6\",\"radialaxis\":{\"gridcolor\":\"white\",\"linecolor\":\"white\",\"ticks\":\"\"}},\"scene\":{\"xaxis\":{\"backgroundcolor\":\"#E5ECF6\",\"gridcolor\":\"white\",\"gridwidth\":2,\"linecolor\":\"white\",\"showbackground\":true,\"ticks\":\"\",\"zerolinecolor\":\"white\"},\"yaxis\":{\"backgroundcolor\":\"#E5ECF6\",\"gridcolor\":\"white\",\"gridwidth\":2,\"linecolor\":\"white\",\"showbackground\":true,\"ticks\":\"\",\"zerolinecolor\":\"white\"},\"zaxis\":{\"backgroundcolor\":\"#E5ECF6\",\"gridcolor\":\"white\",\"gridwidth\":2,\"linecolor\":\"white\",\"showbackground\":true,\"ticks\":\"\",\"zerolinecolor\":\"white\"}},\"shapedefaults\":{\"line\":{\"color\":\"#2a3f5f\"}},\"ternary\":{\"aaxis\":{\"gridcolor\":\"white\",\"linecolor\":\"white\",\"ticks\":\"\"},\"baxis\":{\"gridcolor\":\"white\",\"linecolor\":\"white\",\"ticks\":\"\"},\"bgcolor\":\"#E5ECF6\",\"caxis\":{\"gridcolor\":\"white\",\"linecolor\":\"white\",\"ticks\":\"\"}},\"title\":{\"x\":0.05},\"xaxis\":{\"automargin\":true,\"gridcolor\":\"white\",\"linecolor\":\"white\",\"ticks\":\"\",\"title\":{\"standoff\":15},\"zerolinecolor\":\"white\",\"zerolinewidth\":2},\"yaxis\":{\"automargin\":true,\"gridcolor\":\"white\",\"linecolor\":\"white\",\"ticks\":\"\",\"title\":{\"standoff\":15},\"zerolinecolor\":\"white\",\"zerolinewidth\":2}}},\"xaxis\":{\"anchor\":\"y\",\"domain\":[0.0,1.0],\"title\":{\"text\":\"Community in Chicago\"},\"tickangle\":-45,\"categoryorder\":\"total descending\"},\"yaxis\":{\"anchor\":\"x\",\"domain\":[0.0,1.0],\"title\":{\"text\":\"Murders and Assaults\"}},\"coloraxis\":{\"colorbar\":{\"title\":{\"text\":\"Murders and Assaults\"}},\"colorscale\":[[0.0,\"rgb(255,245,240)\"],[0.125,\"rgb(254,224,210)\"],[0.25,\"rgb(252,187,161)\"],[0.375,\"rgb(252,146,114)\"],[0.5,\"rgb(251,106,74)\"],[0.625,\"rgb(239,59,44)\"],[0.75,\"rgb(203,24,29)\"],[0.875,\"rgb(165,15,21)\"],[1.0,\"rgb(103,0,13)\"]],\"cmin\":30,\"cmax\":35},\"legend\":{\"tracegroupgap\":0},\"title\":{\"text\":\"The Assualt and Homicide Rates by Communities in Chicago\"},\"barmode\":\"group\"},                        {\"responsive\": true}                    ).then(function(){\n",
       "                            \n",
       "var gd = document.getElementById('37d0d709-05fa-4db1-a437-d731ad54ce9e');\n",
       "var x = new MutationObserver(function (mutations, observer) {{\n",
       "        var display = window.getComputedStyle(gd).display;\n",
       "        if (!display || display === 'none') {{\n",
       "            console.log([gd, 'removed!']);\n",
       "            Plotly.purge(gd);\n",
       "            observer.disconnect();\n",
       "        }}\n",
       "}});\n",
       "\n",
       "// Listen for the removal of the full notebook cells\n",
       "var notebookContainer = gd.closest('#notebook-container');\n",
       "if (notebookContainer) {{\n",
       "    x.observe(notebookContainer, {childList: true});\n",
       "}}\n",
       "\n",
       "// Listen for the clearing of the current output cell\n",
       "var outputEl = gd.closest('.output');\n",
       "if (outputEl) {{\n",
       "    x.observe(outputEl, {childList: true});\n",
       "}}\n",
       "\n",
       "                        })                };                });            </script>        </div>"
      ]
     },
     "metadata": {},
     "output_type": "display_data"
    }
   ],
   "source": [
    "assault_plot = px.bar(poverty_crime, y = \"assault_homicide\", x = \"community_area_name\", color = \"assault_homicide\", \n",
    "            title=\"The Assualt and Homicide Rates by Communities in Chicago\", color_continuous_scale=px.colors.sequential.Reds,\n",
    "            labels= {\"assault_homicide\": \"Murders and Assaults\", \"community_area_name\": \"Community in Chicago\"}, range_color=[30,35])\n",
    "#assault_plot.update_traces(marker=dict(colorscale=px.colors.sequential.Reds))\n",
    "assault_plot.update_layout(barmode='group', xaxis_tickangle=-45,  xaxis={'categoryorder':'total descending'})\n",
    "assault_plot.update_traces(textfont_size=12, textangle=0, textposition=\"outside\", cliponaxis=False)\n",
    "assault_plot.show()"
   ]
  },
  {
   "cell_type": "code",
   "execution_count": 70,
   "metadata": {},
   "outputs": [
    {
     "data": {
      "application/vnd.plotly.v1+json": {
       "config": {
        "plotlyServerURL": "https://plot.ly"
       },
       "data": [
        {
         "customdata": [
          [
           "Englewood"
          ],
          [
           "West Town"
          ],
          [
           "Fuller Park"
          ],
          [
           "Austin"
          ],
          [
           "Riverdale"
          ],
          [
           "West Garfield Park"
          ],
          [
           "Douglas"
          ],
          [
           "Loop"
          ],
          [
           "Near North Side"
          ],
          [
           "Hyde Park"
          ],
          [
           "Forest Glen"
          ],
          [
           "Lake View"
          ],
          [
           "Dunning"
          ],
          [
           "Armour Square"
          ],
          [
           "Kenwood"
          ],
          [
           "Norwood Park"
          ],
          [
           "O'Hare"
          ],
          [
           "Portage Park"
          ],
          [
           "Edgewater"
          ],
          [
           "Jefferson Park"
          ],
          [
           "North Center"
          ],
          [
           "Bridgeport"
          ],
          [
           "Lincoln Park"
          ],
          [
           "Avondale"
          ],
          [
           "Edison Park"
          ],
          [
           "Lincoln Square"
          ],
          [
           "Belmont Cragin"
          ],
          [
           "North Park"
          ],
          [
           "Beverly"
          ],
          [
           "Irving Park"
          ],
          [
           "West Ridge"
          ],
          [
           "McKinley Park"
          ],
          [
           "Near South Side"
          ],
          [
           "West Lawn"
          ],
          [
           "Lower West Side"
          ],
          [
           "Near West Side"
          ],
          [
           "Hermosa"
          ],
          [
           "South Lawndale"
          ],
          [
           "Gage Park"
          ],
          [
           "Mount Greenwood"
          ],
          [
           "Archer Heights"
          ],
          [
           "West Elsdon"
          ],
          [
           "Brighton Park"
          ],
          [
           "Clearing"
          ],
          [
           "Albany Park"
          ],
          [
           "Chicago Lawn"
          ],
          [
           "Chatham"
          ],
          [
           "East Side"
          ],
          [
           "Morgan Park"
          ],
          [
           "Logan Square"
          ],
          [
           "Rogers Park"
          ],
          [
           "Pullman"
          ],
          [
           "Washington Heights"
          ],
          [
           "Uptown"
          ],
          [
           "Hegewisch"
          ],
          [
           "Ashburn"
          ],
          [
           "Garfield Ridge"
          ],
          [
           "South Deering"
          ],
          [
           "Calumet Heights"
          ],
          [
           "Woodlawn"
          ],
          [
           "Grand Boulevard"
          ],
          [
           "West Pullman"
          ],
          [
           "Auburn Gresham"
          ],
          [
           "New City"
          ],
          [
           "Avalon Park"
          ],
          [
           "Burnside"
          ],
          [
           "South Chicago"
          ],
          [
           "Washington Park"
          ],
          [
           "West Englewood"
          ],
          [
           "Oakland"
          ],
          [
           "Montclaire"
          ],
          [
           "Greater Grand Crossing"
          ],
          [
           "Humboldt Park"
          ],
          [
           "South Shore"
          ],
          [
           "Roseland"
          ],
          [
           "East Garfield Park"
          ],
          [
           "North Lawndale"
          ]
         ],
         "hovertemplate": "Percentage of population under poverty line=%{x}<br>Murders and Assaults=%{y}<br>Community in Chicago=%{customdata[0]}<br>Perc Low Education=%{marker.color}<extra></extra>",
         "legendgroup": "",
         "marker": {
          "color": [
           29.4,
           13.4,
           33.7,
           25,
           24.6,
           26.2,
           16.9,
           3.4,
           3.4,
           5.3,
           6.3,
           2.9,
           18,
           37.5,
           10.8,
           13.5,
           11,
           18.7,
           9,
           13.5,
           5.4,
           25.6,
           4.3,
           25.7,
           8.5,
           12.5,
           37,
           18.2,
           5.1,
           22,
           19.6,
           31.8,
           7.1,
           33.4,
           44.3,
           11.2,
           41.9,
           58.7,
           54.1,
           4.5,
           36.4,
           39.6,
           48.2,
           18.5,
           34.9,
           31.6,
           13.7,
           35.5,
           10.9,
           18.5,
           18.1,
           15.6,
           15.6,
           13.6,
           17.9,
           18.3,
           19.4,
           21.9,
           11.2,
           17.9,
           19.4,
           22.6,
           19.5,
           42.4,
           13.3,
           18.6,
           28.2,
           28.3,
           30.3,
           17.6,
           28.4,
           17.9,
           36.8,
           14.9,
           17.4,
           26.2,
           30.4
          ],
          "coloraxis": "coloraxis",
          "symbol": "circle"
         },
         "mode": "markers",
         "name": "",
         "orientation": "v",
         "showlegend": false,
         "type": "scatter",
         "x": [
          42.2,
          15.7,
          55.5,
          27,
          61.4,
          40.3,
          26.1,
          11.1,
          13.4,
          18.2,
          6.1,
          10.5,
          8.3,
          35.8,
          23.1,
          5.9,
          9.5,
          12.3,
          16.6,
          6.4,
          7.1,
          17.3,
          11.8,
          14.6,
          5.1,
          9.5,
          18.6,
          12.4,
          5.2,
          10.8,
          15.1,
          16.1,
          11.1,
          15.3,
          27.2,
          21.6,
          19.1,
          28.1,
          20.8,
          3.1,
          13,
          9.8,
          23,
          5.9,
          17.1,
          22.2,
          25.3,
          18.7,
          13.7,
          17.2,
          22.7,
          20.1,
          15.7,
          22.7,
          12.1,
          9.5,
          9,
          24.5,
          12,
          28.3,
          28.3,
          24.3,
          24.5,
          30.6,
          16.7,
          22.5,
          28,
          39.1,
          32.3,
          38.1,
          12.8,
          25.6,
          32.6,
          31.5,
          19.5,
          39.7,
          38.6
         ],
         "xaxis": "x",
         "y": [
          45.1,
          8.5,
          49.6,
          34.4,
          33,
          40,
          13.6,
          0.7,
          3.7,
          5.8,
          3.3,
          1.4,
          3.7,
          1.8,
          15.2,
          4.7,
          5.6,
          3.3,
          5.8,
          4.8,
          1,
          4.9,
          0.7,
          4.7,
          0,
          5,
          7,
          3,
          3.5,
          4.1,
          5.8,
          5.1,
          4.8,
          10.7,
          11.7,
          12.7,
          12.7,
          11.1,
          10.8,
          2.2,
          16.6,
          5.9,
          11.1,
          9.4,
          4.7,
          22.4,
          45.2,
          10.7,
          19.9,
          8.6,
          7.7,
          32.2,
          38,
          5.4,
          6.9,
          12.4,
          9.9,
          41.3,
          19.5,
          31.1,
          32.1,
          43.9,
          37.6,
          26.6,
          22.1,
          70.3,
          36.9,
          44.6,
          47.2,
          18.9,
          8.6,
          49.7,
          29,
          33.4,
          40.9,
          38.4,
          46.7
         ],
         "yaxis": "y"
        },
        {
         "hovertemplate": "<b>OLS trendline</b><br>assault_homicide = 0.961 * below_poverty_level + -1.43198<br>R<sup>2</sup>=0.445080<br><br>Percentage of population under poverty line=%{x}<br>Murders and Assaults=%{y} <b>(trend)</b><extra></extra>",
         "legendgroup": "",
         "marker": {
          "symbol": "circle"
         },
         "mode": "lines",
         "name": "",
         "showlegend": false,
         "type": "scatter",
         "x": [
          3.1,
          5.1,
          5.2,
          5.9,
          5.9,
          6.1,
          6.4,
          7.1,
          8.3,
          9,
          9.5,
          9.5,
          9.5,
          9.8,
          10.5,
          10.8,
          11.1,
          11.1,
          11.8,
          12,
          12.1,
          12.3,
          12.4,
          12.8,
          13,
          13.4,
          13.7,
          14.6,
          15.1,
          15.3,
          15.7,
          15.7,
          16.1,
          16.6,
          16.7,
          17.1,
          17.2,
          17.3,
          18.2,
          18.6,
          18.7,
          19.1,
          19.5,
          20.1,
          20.8,
          21.6,
          22.2,
          22.5,
          22.7,
          22.7,
          23,
          23.1,
          24.3,
          24.5,
          24.5,
          25.3,
          25.6,
          26.1,
          27,
          27.2,
          28,
          28.1,
          28.3,
          28.3,
          30.6,
          31.5,
          32.3,
          32.6,
          35.8,
          38.1,
          38.6,
          39.1,
          39.7,
          40.3,
          42.2,
          55.5,
          61.4
         ],
         "xaxis": "x",
         "y": [
          1.5471200766179072,
          3.4691200072727217,
          3.5652200038054622,
          4.237919979534649,
          4.237919979534649,
          4.430119972600128,
          4.718419962198352,
          5.391119937927536,
          6.544319896320426,
          7.21701987204961,
          7.697519854713315,
          7.697519854713315,
          7.697519854713315,
          7.985819844311537,
          8.658519820040722,
          8.946819809638944,
          9.235119799237166,
          9.235119799237166,
          9.907819774966352,
          10.100019768031832,
          10.196119764564573,
          10.388319757630056,
          10.484419754162795,
          10.868819740293759,
          11.06101973335924,
          11.445419719490204,
          11.733719709088424,
          12.598619677883091,
          13.079119660546795,
          13.271319653612277,
          13.65571963974324,
          13.65571963974324,
          14.040119625874203,
          14.520619608537908,
          14.616719605070646,
          15.001119591201611,
          15.097219587734351,
          15.19331958426709,
          16.058219553061758,
          16.442619539192723,
          16.53871953572546,
          16.923119521856425,
          17.307519507987386,
          17.88411948718383,
          18.556819462913015,
          19.325619435174943,
          19.902219414371388,
          20.19051940396961,
          20.38271939703509,
          20.38271939703509,
          20.67101938663331,
          20.767119383166055,
          21.920319341558944,
          22.112519334624423,
          22.112519334624423,
          22.88131930688635,
          23.169619296484573,
          23.650119279148278,
          24.51501924794294,
          24.707219241008424,
          25.476019213270348,
          25.57211920980309,
          25.76431920286857,
          25.76431920286857,
          27.97461912312161,
          28.839519091916273,
          29.608319064178197,
          29.896619053776423,
          32.97181894282412,
          35.18211886307716,
          35.662618845740866,
          36.14311882840457,
          36.71971880760101,
          37.29631878679745,
          39.122218720919534,
          51.903518259774046,
          57.57341805520575
         ],
         "yaxis": "y"
        }
       ],
       "layout": {
        "coloraxis": {
         "colorbar": {
          "title": {
           "text": "Perc Low Education"
          }
         },
         "colorscale": [
          [
           0,
           "rgb(247, 254, 174)"
          ],
          [
           0.16666666666666666,
           "rgb(183, 230, 165)"
          ],
          [
           0.3333333333333333,
           "rgb(124, 203, 162)"
          ],
          [
           0.5,
           "rgb(70, 174, 160)"
          ],
          [
           0.6666666666666666,
           "rgb(8, 144, 153)"
          ],
          [
           0.8333333333333334,
           "rgb(0, 113, 139)"
          ],
          [
           1,
           "rgb(4, 82, 117)"
          ]
         ]
        },
        "legend": {
         "tracegroupgap": 0
        },
        "template": {
         "data": {
          "bar": [
           {
            "error_x": {
             "color": "#2a3f5f"
            },
            "error_y": {
             "color": "#2a3f5f"
            },
            "marker": {
             "line": {
              "color": "#E5ECF6",
              "width": 0.5
             },
             "pattern": {
              "fillmode": "overlay",
              "size": 10,
              "solidity": 0.2
             }
            },
            "type": "bar"
           }
          ],
          "barpolar": [
           {
            "marker": {
             "line": {
              "color": "#E5ECF6",
              "width": 0.5
             },
             "pattern": {
              "fillmode": "overlay",
              "size": 10,
              "solidity": 0.2
             }
            },
            "type": "barpolar"
           }
          ],
          "carpet": [
           {
            "aaxis": {
             "endlinecolor": "#2a3f5f",
             "gridcolor": "white",
             "linecolor": "white",
             "minorgridcolor": "white",
             "startlinecolor": "#2a3f5f"
            },
            "baxis": {
             "endlinecolor": "#2a3f5f",
             "gridcolor": "white",
             "linecolor": "white",
             "minorgridcolor": "white",
             "startlinecolor": "#2a3f5f"
            },
            "type": "carpet"
           }
          ],
          "choropleth": [
           {
            "colorbar": {
             "outlinewidth": 0,
             "ticks": ""
            },
            "type": "choropleth"
           }
          ],
          "contour": [
           {
            "colorbar": {
             "outlinewidth": 0,
             "ticks": ""
            },
            "colorscale": [
             [
              0,
              "#0d0887"
             ],
             [
              0.1111111111111111,
              "#46039f"
             ],
             [
              0.2222222222222222,
              "#7201a8"
             ],
             [
              0.3333333333333333,
              "#9c179e"
             ],
             [
              0.4444444444444444,
              "#bd3786"
             ],
             [
              0.5555555555555556,
              "#d8576b"
             ],
             [
              0.6666666666666666,
              "#ed7953"
             ],
             [
              0.7777777777777778,
              "#fb9f3a"
             ],
             [
              0.8888888888888888,
              "#fdca26"
             ],
             [
              1,
              "#f0f921"
             ]
            ],
            "type": "contour"
           }
          ],
          "contourcarpet": [
           {
            "colorbar": {
             "outlinewidth": 0,
             "ticks": ""
            },
            "type": "contourcarpet"
           }
          ],
          "heatmap": [
           {
            "colorbar": {
             "outlinewidth": 0,
             "ticks": ""
            },
            "colorscale": [
             [
              0,
              "#0d0887"
             ],
             [
              0.1111111111111111,
              "#46039f"
             ],
             [
              0.2222222222222222,
              "#7201a8"
             ],
             [
              0.3333333333333333,
              "#9c179e"
             ],
             [
              0.4444444444444444,
              "#bd3786"
             ],
             [
              0.5555555555555556,
              "#d8576b"
             ],
             [
              0.6666666666666666,
              "#ed7953"
             ],
             [
              0.7777777777777778,
              "#fb9f3a"
             ],
             [
              0.8888888888888888,
              "#fdca26"
             ],
             [
              1,
              "#f0f921"
             ]
            ],
            "type": "heatmap"
           }
          ],
          "heatmapgl": [
           {
            "colorbar": {
             "outlinewidth": 0,
             "ticks": ""
            },
            "colorscale": [
             [
              0,
              "#0d0887"
             ],
             [
              0.1111111111111111,
              "#46039f"
             ],
             [
              0.2222222222222222,
              "#7201a8"
             ],
             [
              0.3333333333333333,
              "#9c179e"
             ],
             [
              0.4444444444444444,
              "#bd3786"
             ],
             [
              0.5555555555555556,
              "#d8576b"
             ],
             [
              0.6666666666666666,
              "#ed7953"
             ],
             [
              0.7777777777777778,
              "#fb9f3a"
             ],
             [
              0.8888888888888888,
              "#fdca26"
             ],
             [
              1,
              "#f0f921"
             ]
            ],
            "type": "heatmapgl"
           }
          ],
          "histogram": [
           {
            "marker": {
             "pattern": {
              "fillmode": "overlay",
              "size": 10,
              "solidity": 0.2
             }
            },
            "type": "histogram"
           }
          ],
          "histogram2d": [
           {
            "colorbar": {
             "outlinewidth": 0,
             "ticks": ""
            },
            "colorscale": [
             [
              0,
              "#0d0887"
             ],
             [
              0.1111111111111111,
              "#46039f"
             ],
             [
              0.2222222222222222,
              "#7201a8"
             ],
             [
              0.3333333333333333,
              "#9c179e"
             ],
             [
              0.4444444444444444,
              "#bd3786"
             ],
             [
              0.5555555555555556,
              "#d8576b"
             ],
             [
              0.6666666666666666,
              "#ed7953"
             ],
             [
              0.7777777777777778,
              "#fb9f3a"
             ],
             [
              0.8888888888888888,
              "#fdca26"
             ],
             [
              1,
              "#f0f921"
             ]
            ],
            "type": "histogram2d"
           }
          ],
          "histogram2dcontour": [
           {
            "colorbar": {
             "outlinewidth": 0,
             "ticks": ""
            },
            "colorscale": [
             [
              0,
              "#0d0887"
             ],
             [
              0.1111111111111111,
              "#46039f"
             ],
             [
              0.2222222222222222,
              "#7201a8"
             ],
             [
              0.3333333333333333,
              "#9c179e"
             ],
             [
              0.4444444444444444,
              "#bd3786"
             ],
             [
              0.5555555555555556,
              "#d8576b"
             ],
             [
              0.6666666666666666,
              "#ed7953"
             ],
             [
              0.7777777777777778,
              "#fb9f3a"
             ],
             [
              0.8888888888888888,
              "#fdca26"
             ],
             [
              1,
              "#f0f921"
             ]
            ],
            "type": "histogram2dcontour"
           }
          ],
          "mesh3d": [
           {
            "colorbar": {
             "outlinewidth": 0,
             "ticks": ""
            },
            "type": "mesh3d"
           }
          ],
          "parcoords": [
           {
            "line": {
             "colorbar": {
              "outlinewidth": 0,
              "ticks": ""
             }
            },
            "type": "parcoords"
           }
          ],
          "pie": [
           {
            "automargin": true,
            "type": "pie"
           }
          ],
          "scatter": [
           {
            "marker": {
             "colorbar": {
              "outlinewidth": 0,
              "ticks": ""
             }
            },
            "type": "scatter"
           }
          ],
          "scatter3d": [
           {
            "line": {
             "colorbar": {
              "outlinewidth": 0,
              "ticks": ""
             }
            },
            "marker": {
             "colorbar": {
              "outlinewidth": 0,
              "ticks": ""
             }
            },
            "type": "scatter3d"
           }
          ],
          "scattercarpet": [
           {
            "marker": {
             "colorbar": {
              "outlinewidth": 0,
              "ticks": ""
             }
            },
            "type": "scattercarpet"
           }
          ],
          "scattergeo": [
           {
            "marker": {
             "colorbar": {
              "outlinewidth": 0,
              "ticks": ""
             }
            },
            "type": "scattergeo"
           }
          ],
          "scattergl": [
           {
            "marker": {
             "colorbar": {
              "outlinewidth": 0,
              "ticks": ""
             }
            },
            "type": "scattergl"
           }
          ],
          "scattermapbox": [
           {
            "marker": {
             "colorbar": {
              "outlinewidth": 0,
              "ticks": ""
             }
            },
            "type": "scattermapbox"
           }
          ],
          "scatterpolar": [
           {
            "marker": {
             "colorbar": {
              "outlinewidth": 0,
              "ticks": ""
             }
            },
            "type": "scatterpolar"
           }
          ],
          "scatterpolargl": [
           {
            "marker": {
             "colorbar": {
              "outlinewidth": 0,
              "ticks": ""
             }
            },
            "type": "scatterpolargl"
           }
          ],
          "scatterternary": [
           {
            "marker": {
             "colorbar": {
              "outlinewidth": 0,
              "ticks": ""
             }
            },
            "type": "scatterternary"
           }
          ],
          "surface": [
           {
            "colorbar": {
             "outlinewidth": 0,
             "ticks": ""
            },
            "colorscale": [
             [
              0,
              "#0d0887"
             ],
             [
              0.1111111111111111,
              "#46039f"
             ],
             [
              0.2222222222222222,
              "#7201a8"
             ],
             [
              0.3333333333333333,
              "#9c179e"
             ],
             [
              0.4444444444444444,
              "#bd3786"
             ],
             [
              0.5555555555555556,
              "#d8576b"
             ],
             [
              0.6666666666666666,
              "#ed7953"
             ],
             [
              0.7777777777777778,
              "#fb9f3a"
             ],
             [
              0.8888888888888888,
              "#fdca26"
             ],
             [
              1,
              "#f0f921"
             ]
            ],
            "type": "surface"
           }
          ],
          "table": [
           {
            "cells": {
             "fill": {
              "color": "#EBF0F8"
             },
             "line": {
              "color": "white"
             }
            },
            "header": {
             "fill": {
              "color": "#C8D4E3"
             },
             "line": {
              "color": "white"
             }
            },
            "type": "table"
           }
          ]
         },
         "layout": {
          "annotationdefaults": {
           "arrowcolor": "#2a3f5f",
           "arrowhead": 0,
           "arrowwidth": 1
          },
          "autotypenumbers": "strict",
          "coloraxis": {
           "colorbar": {
            "outlinewidth": 0,
            "ticks": ""
           }
          },
          "colorscale": {
           "diverging": [
            [
             0,
             "#8e0152"
            ],
            [
             0.1,
             "#c51b7d"
            ],
            [
             0.2,
             "#de77ae"
            ],
            [
             0.3,
             "#f1b6da"
            ],
            [
             0.4,
             "#fde0ef"
            ],
            [
             0.5,
             "#f7f7f7"
            ],
            [
             0.6,
             "#e6f5d0"
            ],
            [
             0.7,
             "#b8e186"
            ],
            [
             0.8,
             "#7fbc41"
            ],
            [
             0.9,
             "#4d9221"
            ],
            [
             1,
             "#276419"
            ]
           ],
           "sequential": [
            [
             0,
             "#0d0887"
            ],
            [
             0.1111111111111111,
             "#46039f"
            ],
            [
             0.2222222222222222,
             "#7201a8"
            ],
            [
             0.3333333333333333,
             "#9c179e"
            ],
            [
             0.4444444444444444,
             "#bd3786"
            ],
            [
             0.5555555555555556,
             "#d8576b"
            ],
            [
             0.6666666666666666,
             "#ed7953"
            ],
            [
             0.7777777777777778,
             "#fb9f3a"
            ],
            [
             0.8888888888888888,
             "#fdca26"
            ],
            [
             1,
             "#f0f921"
            ]
           ],
           "sequentialminus": [
            [
             0,
             "#0d0887"
            ],
            [
             0.1111111111111111,
             "#46039f"
            ],
            [
             0.2222222222222222,
             "#7201a8"
            ],
            [
             0.3333333333333333,
             "#9c179e"
            ],
            [
             0.4444444444444444,
             "#bd3786"
            ],
            [
             0.5555555555555556,
             "#d8576b"
            ],
            [
             0.6666666666666666,
             "#ed7953"
            ],
            [
             0.7777777777777778,
             "#fb9f3a"
            ],
            [
             0.8888888888888888,
             "#fdca26"
            ],
            [
             1,
             "#f0f921"
            ]
           ]
          },
          "colorway": [
           "#636efa",
           "#EF553B",
           "#00cc96",
           "#ab63fa",
           "#FFA15A",
           "#19d3f3",
           "#FF6692",
           "#B6E880",
           "#FF97FF",
           "#FECB52"
          ],
          "font": {
           "color": "#2a3f5f"
          },
          "geo": {
           "bgcolor": "white",
           "lakecolor": "white",
           "landcolor": "#E5ECF6",
           "showlakes": true,
           "showland": true,
           "subunitcolor": "white"
          },
          "hoverlabel": {
           "align": "left"
          },
          "hovermode": "closest",
          "mapbox": {
           "style": "light"
          },
          "paper_bgcolor": "white",
          "plot_bgcolor": "#E5ECF6",
          "polar": {
           "angularaxis": {
            "gridcolor": "white",
            "linecolor": "white",
            "ticks": ""
           },
           "bgcolor": "#E5ECF6",
           "radialaxis": {
            "gridcolor": "white",
            "linecolor": "white",
            "ticks": ""
           }
          },
          "scene": {
           "xaxis": {
            "backgroundcolor": "#E5ECF6",
            "gridcolor": "white",
            "gridwidth": 2,
            "linecolor": "white",
            "showbackground": true,
            "ticks": "",
            "zerolinecolor": "white"
           },
           "yaxis": {
            "backgroundcolor": "#E5ECF6",
            "gridcolor": "white",
            "gridwidth": 2,
            "linecolor": "white",
            "showbackground": true,
            "ticks": "",
            "zerolinecolor": "white"
           },
           "zaxis": {
            "backgroundcolor": "#E5ECF6",
            "gridcolor": "white",
            "gridwidth": 2,
            "linecolor": "white",
            "showbackground": true,
            "ticks": "",
            "zerolinecolor": "white"
           }
          },
          "shapedefaults": {
           "line": {
            "color": "#2a3f5f"
           }
          },
          "ternary": {
           "aaxis": {
            "gridcolor": "white",
            "linecolor": "white",
            "ticks": ""
           },
           "baxis": {
            "gridcolor": "white",
            "linecolor": "white",
            "ticks": ""
           },
           "bgcolor": "#E5ECF6",
           "caxis": {
            "gridcolor": "white",
            "linecolor": "white",
            "ticks": ""
           }
          },
          "title": {
           "x": 0.05
          },
          "xaxis": {
           "automargin": true,
           "gridcolor": "white",
           "linecolor": "white",
           "ticks": "",
           "title": {
            "standoff": 15
           },
           "zerolinecolor": "white",
           "zerolinewidth": 2
          },
          "yaxis": {
           "automargin": true,
           "gridcolor": "white",
           "linecolor": "white",
           "ticks": "",
           "title": {
            "standoff": 15
           },
           "zerolinecolor": "white",
           "zerolinewidth": 2
          }
         }
        },
        "title": {
         "text": "Positive Correlations Between crime rates and Education Level"
        },
        "xaxis": {
         "anchor": "y",
         "domain": [
          0,
          1
         ],
         "title": {
          "text": "Percentage of population under poverty line"
         }
        },
        "yaxis": {
         "anchor": "x",
         "domain": [
          0,
          1
         ],
         "title": {
          "text": "Murders and Assaults"
         }
        }
       }
      },
      "text/html": [
       "<div>                            <div id=\"ca38d0f1-a74b-485a-8ea5-02076f762df3\" class=\"plotly-graph-div\" style=\"height:525px; width:100%;\"></div>            <script type=\"text/javascript\">                require([\"plotly\"], function(Plotly) {                    window.PLOTLYENV=window.PLOTLYENV || {};                                    if (document.getElementById(\"ca38d0f1-a74b-485a-8ea5-02076f762df3\")) {                    Plotly.newPlot(                        \"ca38d0f1-a74b-485a-8ea5-02076f762df3\",                        [{\"customdata\":[[\"Englewood\"],[\"West Town\"],[\"Fuller Park\"],[\"Austin\"],[\"Riverdale\"],[\"West Garfield Park\"],[\"Douglas\"],[\"Loop\"],[\"Near North Side\"],[\"Hyde Park\"],[\"Forest Glen\"],[\"Lake View\"],[\"Dunning\"],[\"Armour Square\"],[\"Kenwood\"],[\"Norwood Park\"],[\"O'Hare\"],[\"Portage Park\"],[\"Edgewater\"],[\"Jefferson Park\"],[\"North Center\"],[\"Bridgeport\"],[\"Lincoln Park\"],[\"Avondale\"],[\"Edison Park\"],[\"Lincoln Square\"],[\"Belmont Cragin\"],[\"North Park\"],[\"Beverly\"],[\"Irving Park\"],[\"West Ridge\"],[\"McKinley Park\"],[\"Near South Side\"],[\"West Lawn\"],[\"Lower West Side\"],[\"Near West Side\"],[\"Hermosa\"],[\"South Lawndale\"],[\"Gage Park\"],[\"Mount Greenwood\"],[\"Archer Heights\"],[\"West Elsdon\"],[\"Brighton Park\"],[\"Clearing\"],[\"Albany Park\"],[\"Chicago Lawn\"],[\"Chatham\"],[\"East Side\"],[\"Morgan Park\"],[\"Logan Square\"],[\"Rogers Park\"],[\"Pullman\"],[\"Washington Heights\"],[\"Uptown\"],[\"Hegewisch\"],[\"Ashburn\"],[\"Garfield Ridge\"],[\"South Deering\"],[\"Calumet Heights\"],[\"Woodlawn\"],[\"Grand Boulevard\"],[\"West Pullman\"],[\"Auburn Gresham\"],[\"New City\"],[\"Avalon Park\"],[\"Burnside\"],[\"South Chicago\"],[\"Washington Park\"],[\"West Englewood\"],[\"Oakland\"],[\"Montclaire\"],[\"Greater Grand Crossing\"],[\"Humboldt Park\"],[\"South Shore\"],[\"Roseland\"],[\"East Garfield Park\"],[\"North Lawndale\"]],\"hovertemplate\":\"Percentage of population under poverty line=%{x}<br>Murders and Assaults=%{y}<br>Community in Chicago=%{customdata[0]}<br>Perc Low Education=%{marker.color}<extra></extra>\",\"legendgroup\":\"\",\"marker\":{\"color\":[29.4,13.4,33.7,25.0,24.6,26.2,16.9,3.4,3.4,5.3,6.3,2.9,18.0,37.5,10.8,13.5,11.0,18.7,9.0,13.5,5.4,25.6,4.3,25.7,8.5,12.5,37.0,18.2,5.1,22.0,19.6,31.8,7.1,33.4,44.3,11.2,41.9,58.7,54.1,4.5,36.4,39.6,48.2,18.5,34.9,31.6,13.7,35.5,10.9,18.5,18.1,15.6,15.6,13.6,17.9,18.3,19.4,21.9,11.2,17.9,19.4,22.6,19.5,42.4,13.3,18.6,28.2,28.3,30.3,17.6,28.4,17.9,36.8,14.9,17.4,26.2,30.4],\"coloraxis\":\"coloraxis\",\"symbol\":\"circle\"},\"mode\":\"markers\",\"name\":\"\",\"orientation\":\"v\",\"showlegend\":false,\"x\":[42.2,15.7,55.5,27.0,61.4,40.3,26.1,11.1,13.4,18.2,6.1,10.5,8.3,35.8,23.1,5.9,9.5,12.3,16.6,6.4,7.1,17.3,11.8,14.6,5.1,9.5,18.6,12.4,5.2,10.8,15.1,16.1,11.1,15.3,27.2,21.6,19.1,28.1,20.8,3.1,13.0,9.8,23.0,5.9,17.1,22.2,25.3,18.7,13.7,17.2,22.7,20.1,15.7,22.7,12.1,9.5,9.0,24.5,12.0,28.3,28.3,24.3,24.5,30.6,16.7,22.5,28.0,39.1,32.3,38.1,12.8,25.6,32.6,31.5,19.5,39.7,38.6],\"xaxis\":\"x\",\"y\":[45.1,8.5,49.6,34.4,33.0,40.0,13.6,0.7,3.7,5.8,3.3,1.4,3.7,1.8,15.2,4.7,5.6,3.3,5.8,4.8,1.0,4.9,0.7,4.7,0.0,5.0,7.0,3.0,3.5,4.1,5.8,5.1,4.8,10.7,11.7,12.7,12.7,11.1,10.8,2.2,16.6,5.9,11.1,9.4,4.7,22.4,45.2,10.7,19.9,8.6,7.7,32.2,38.0,5.4,6.9,12.4,9.9,41.3,19.5,31.1,32.1,43.9,37.6,26.6,22.1,70.3,36.9,44.6,47.2,18.9,8.6,49.7,29.0,33.4,40.9,38.4,46.7],\"yaxis\":\"y\",\"type\":\"scatter\"},{\"hovertemplate\":\"<b>OLS trendline</b><br>assault_homicide = 0.961 * below_poverty_level + -1.43198<br>R<sup>2</sup>=0.445080<br><br>Percentage of population under poverty line=%{x}<br>Murders and Assaults=%{y} <b>(trend)</b><extra></extra>\",\"legendgroup\":\"\",\"marker\":{\"symbol\":\"circle\"},\"mode\":\"lines\",\"name\":\"\",\"showlegend\":false,\"x\":[3.1,5.1,5.2,5.9,5.9,6.1,6.4,7.1,8.3,9.0,9.5,9.5,9.5,9.8,10.5,10.8,11.1,11.1,11.8,12.0,12.1,12.3,12.4,12.8,13.0,13.4,13.7,14.6,15.1,15.3,15.7,15.7,16.1,16.6,16.7,17.1,17.2,17.3,18.2,18.6,18.7,19.1,19.5,20.1,20.8,21.6,22.2,22.5,22.7,22.7,23.0,23.1,24.3,24.5,24.5,25.3,25.6,26.1,27.0,27.2,28.0,28.1,28.3,28.3,30.6,31.5,32.3,32.6,35.8,38.1,38.6,39.1,39.7,40.3,42.2,55.5,61.4],\"xaxis\":\"x\",\"y\":[1.5471200766179072,3.4691200072727217,3.5652200038054622,4.237919979534649,4.237919979534649,4.430119972600128,4.718419962198352,5.391119937927536,6.544319896320426,7.21701987204961,7.697519854713315,7.697519854713315,7.697519854713315,7.985819844311537,8.658519820040722,8.946819809638944,9.235119799237166,9.235119799237166,9.907819774966352,10.100019768031832,10.196119764564573,10.388319757630056,10.484419754162795,10.868819740293759,11.06101973335924,11.445419719490204,11.733719709088424,12.598619677883091,13.079119660546795,13.271319653612277,13.65571963974324,13.65571963974324,14.040119625874203,14.520619608537908,14.616719605070646,15.001119591201611,15.097219587734351,15.19331958426709,16.058219553061758,16.442619539192723,16.53871953572546,16.923119521856425,17.307519507987386,17.88411948718383,18.556819462913015,19.325619435174943,19.902219414371388,20.19051940396961,20.38271939703509,20.38271939703509,20.67101938663331,20.767119383166055,21.920319341558944,22.112519334624423,22.112519334624423,22.88131930688635,23.169619296484573,23.650119279148278,24.51501924794294,24.707219241008424,25.476019213270348,25.57211920980309,25.76431920286857,25.76431920286857,27.97461912312161,28.839519091916273,29.608319064178197,29.896619053776423,32.97181894282412,35.18211886307716,35.662618845740866,36.14311882840457,36.71971880760101,37.29631878679745,39.122218720919534,51.903518259774046,57.57341805520575],\"yaxis\":\"y\",\"type\":\"scatter\"}],                        {\"template\":{\"data\":{\"bar\":[{\"error_x\":{\"color\":\"#2a3f5f\"},\"error_y\":{\"color\":\"#2a3f5f\"},\"marker\":{\"line\":{\"color\":\"#E5ECF6\",\"width\":0.5},\"pattern\":{\"fillmode\":\"overlay\",\"size\":10,\"solidity\":0.2}},\"type\":\"bar\"}],\"barpolar\":[{\"marker\":{\"line\":{\"color\":\"#E5ECF6\",\"width\":0.5},\"pattern\":{\"fillmode\":\"overlay\",\"size\":10,\"solidity\":0.2}},\"type\":\"barpolar\"}],\"carpet\":[{\"aaxis\":{\"endlinecolor\":\"#2a3f5f\",\"gridcolor\":\"white\",\"linecolor\":\"white\",\"minorgridcolor\":\"white\",\"startlinecolor\":\"#2a3f5f\"},\"baxis\":{\"endlinecolor\":\"#2a3f5f\",\"gridcolor\":\"white\",\"linecolor\":\"white\",\"minorgridcolor\":\"white\",\"startlinecolor\":\"#2a3f5f\"},\"type\":\"carpet\"}],\"choropleth\":[{\"colorbar\":{\"outlinewidth\":0,\"ticks\":\"\"},\"type\":\"choropleth\"}],\"contour\":[{\"colorbar\":{\"outlinewidth\":0,\"ticks\":\"\"},\"colorscale\":[[0.0,\"#0d0887\"],[0.1111111111111111,\"#46039f\"],[0.2222222222222222,\"#7201a8\"],[0.3333333333333333,\"#9c179e\"],[0.4444444444444444,\"#bd3786\"],[0.5555555555555556,\"#d8576b\"],[0.6666666666666666,\"#ed7953\"],[0.7777777777777778,\"#fb9f3a\"],[0.8888888888888888,\"#fdca26\"],[1.0,\"#f0f921\"]],\"type\":\"contour\"}],\"contourcarpet\":[{\"colorbar\":{\"outlinewidth\":0,\"ticks\":\"\"},\"type\":\"contourcarpet\"}],\"heatmap\":[{\"colorbar\":{\"outlinewidth\":0,\"ticks\":\"\"},\"colorscale\":[[0.0,\"#0d0887\"],[0.1111111111111111,\"#46039f\"],[0.2222222222222222,\"#7201a8\"],[0.3333333333333333,\"#9c179e\"],[0.4444444444444444,\"#bd3786\"],[0.5555555555555556,\"#d8576b\"],[0.6666666666666666,\"#ed7953\"],[0.7777777777777778,\"#fb9f3a\"],[0.8888888888888888,\"#fdca26\"],[1.0,\"#f0f921\"]],\"type\":\"heatmap\"}],\"heatmapgl\":[{\"colorbar\":{\"outlinewidth\":0,\"ticks\":\"\"},\"colorscale\":[[0.0,\"#0d0887\"],[0.1111111111111111,\"#46039f\"],[0.2222222222222222,\"#7201a8\"],[0.3333333333333333,\"#9c179e\"],[0.4444444444444444,\"#bd3786\"],[0.5555555555555556,\"#d8576b\"],[0.6666666666666666,\"#ed7953\"],[0.7777777777777778,\"#fb9f3a\"],[0.8888888888888888,\"#fdca26\"],[1.0,\"#f0f921\"]],\"type\":\"heatmapgl\"}],\"histogram\":[{\"marker\":{\"pattern\":{\"fillmode\":\"overlay\",\"size\":10,\"solidity\":0.2}},\"type\":\"histogram\"}],\"histogram2d\":[{\"colorbar\":{\"outlinewidth\":0,\"ticks\":\"\"},\"colorscale\":[[0.0,\"#0d0887\"],[0.1111111111111111,\"#46039f\"],[0.2222222222222222,\"#7201a8\"],[0.3333333333333333,\"#9c179e\"],[0.4444444444444444,\"#bd3786\"],[0.5555555555555556,\"#d8576b\"],[0.6666666666666666,\"#ed7953\"],[0.7777777777777778,\"#fb9f3a\"],[0.8888888888888888,\"#fdca26\"],[1.0,\"#f0f921\"]],\"type\":\"histogram2d\"}],\"histogram2dcontour\":[{\"colorbar\":{\"outlinewidth\":0,\"ticks\":\"\"},\"colorscale\":[[0.0,\"#0d0887\"],[0.1111111111111111,\"#46039f\"],[0.2222222222222222,\"#7201a8\"],[0.3333333333333333,\"#9c179e\"],[0.4444444444444444,\"#bd3786\"],[0.5555555555555556,\"#d8576b\"],[0.6666666666666666,\"#ed7953\"],[0.7777777777777778,\"#fb9f3a\"],[0.8888888888888888,\"#fdca26\"],[1.0,\"#f0f921\"]],\"type\":\"histogram2dcontour\"}],\"mesh3d\":[{\"colorbar\":{\"outlinewidth\":0,\"ticks\":\"\"},\"type\":\"mesh3d\"}],\"parcoords\":[{\"line\":{\"colorbar\":{\"outlinewidth\":0,\"ticks\":\"\"}},\"type\":\"parcoords\"}],\"pie\":[{\"automargin\":true,\"type\":\"pie\"}],\"scatter\":[{\"marker\":{\"colorbar\":{\"outlinewidth\":0,\"ticks\":\"\"}},\"type\":\"scatter\"}],\"scatter3d\":[{\"line\":{\"colorbar\":{\"outlinewidth\":0,\"ticks\":\"\"}},\"marker\":{\"colorbar\":{\"outlinewidth\":0,\"ticks\":\"\"}},\"type\":\"scatter3d\"}],\"scattercarpet\":[{\"marker\":{\"colorbar\":{\"outlinewidth\":0,\"ticks\":\"\"}},\"type\":\"scattercarpet\"}],\"scattergeo\":[{\"marker\":{\"colorbar\":{\"outlinewidth\":0,\"ticks\":\"\"}},\"type\":\"scattergeo\"}],\"scattergl\":[{\"marker\":{\"colorbar\":{\"outlinewidth\":0,\"ticks\":\"\"}},\"type\":\"scattergl\"}],\"scattermapbox\":[{\"marker\":{\"colorbar\":{\"outlinewidth\":0,\"ticks\":\"\"}},\"type\":\"scattermapbox\"}],\"scatterpolar\":[{\"marker\":{\"colorbar\":{\"outlinewidth\":0,\"ticks\":\"\"}},\"type\":\"scatterpolar\"}],\"scatterpolargl\":[{\"marker\":{\"colorbar\":{\"outlinewidth\":0,\"ticks\":\"\"}},\"type\":\"scatterpolargl\"}],\"scatterternary\":[{\"marker\":{\"colorbar\":{\"outlinewidth\":0,\"ticks\":\"\"}},\"type\":\"scatterternary\"}],\"surface\":[{\"colorbar\":{\"outlinewidth\":0,\"ticks\":\"\"},\"colorscale\":[[0.0,\"#0d0887\"],[0.1111111111111111,\"#46039f\"],[0.2222222222222222,\"#7201a8\"],[0.3333333333333333,\"#9c179e\"],[0.4444444444444444,\"#bd3786\"],[0.5555555555555556,\"#d8576b\"],[0.6666666666666666,\"#ed7953\"],[0.7777777777777778,\"#fb9f3a\"],[0.8888888888888888,\"#fdca26\"],[1.0,\"#f0f921\"]],\"type\":\"surface\"}],\"table\":[{\"cells\":{\"fill\":{\"color\":\"#EBF0F8\"},\"line\":{\"color\":\"white\"}},\"header\":{\"fill\":{\"color\":\"#C8D4E3\"},\"line\":{\"color\":\"white\"}},\"type\":\"table\"}]},\"layout\":{\"annotationdefaults\":{\"arrowcolor\":\"#2a3f5f\",\"arrowhead\":0,\"arrowwidth\":1},\"autotypenumbers\":\"strict\",\"coloraxis\":{\"colorbar\":{\"outlinewidth\":0,\"ticks\":\"\"}},\"colorscale\":{\"diverging\":[[0,\"#8e0152\"],[0.1,\"#c51b7d\"],[0.2,\"#de77ae\"],[0.3,\"#f1b6da\"],[0.4,\"#fde0ef\"],[0.5,\"#f7f7f7\"],[0.6,\"#e6f5d0\"],[0.7,\"#b8e186\"],[0.8,\"#7fbc41\"],[0.9,\"#4d9221\"],[1,\"#276419\"]],\"sequential\":[[0.0,\"#0d0887\"],[0.1111111111111111,\"#46039f\"],[0.2222222222222222,\"#7201a8\"],[0.3333333333333333,\"#9c179e\"],[0.4444444444444444,\"#bd3786\"],[0.5555555555555556,\"#d8576b\"],[0.6666666666666666,\"#ed7953\"],[0.7777777777777778,\"#fb9f3a\"],[0.8888888888888888,\"#fdca26\"],[1.0,\"#f0f921\"]],\"sequentialminus\":[[0.0,\"#0d0887\"],[0.1111111111111111,\"#46039f\"],[0.2222222222222222,\"#7201a8\"],[0.3333333333333333,\"#9c179e\"],[0.4444444444444444,\"#bd3786\"],[0.5555555555555556,\"#d8576b\"],[0.6666666666666666,\"#ed7953\"],[0.7777777777777778,\"#fb9f3a\"],[0.8888888888888888,\"#fdca26\"],[1.0,\"#f0f921\"]]},\"colorway\":[\"#636efa\",\"#EF553B\",\"#00cc96\",\"#ab63fa\",\"#FFA15A\",\"#19d3f3\",\"#FF6692\",\"#B6E880\",\"#FF97FF\",\"#FECB52\"],\"font\":{\"color\":\"#2a3f5f\"},\"geo\":{\"bgcolor\":\"white\",\"lakecolor\":\"white\",\"landcolor\":\"#E5ECF6\",\"showlakes\":true,\"showland\":true,\"subunitcolor\":\"white\"},\"hoverlabel\":{\"align\":\"left\"},\"hovermode\":\"closest\",\"mapbox\":{\"style\":\"light\"},\"paper_bgcolor\":\"white\",\"plot_bgcolor\":\"#E5ECF6\",\"polar\":{\"angularaxis\":{\"gridcolor\":\"white\",\"linecolor\":\"white\",\"ticks\":\"\"},\"bgcolor\":\"#E5ECF6\",\"radialaxis\":{\"gridcolor\":\"white\",\"linecolor\":\"white\",\"ticks\":\"\"}},\"scene\":{\"xaxis\":{\"backgroundcolor\":\"#E5ECF6\",\"gridcolor\":\"white\",\"gridwidth\":2,\"linecolor\":\"white\",\"showbackground\":true,\"ticks\":\"\",\"zerolinecolor\":\"white\"},\"yaxis\":{\"backgroundcolor\":\"#E5ECF6\",\"gridcolor\":\"white\",\"gridwidth\":2,\"linecolor\":\"white\",\"showbackground\":true,\"ticks\":\"\",\"zerolinecolor\":\"white\"},\"zaxis\":{\"backgroundcolor\":\"#E5ECF6\",\"gridcolor\":\"white\",\"gridwidth\":2,\"linecolor\":\"white\",\"showbackground\":true,\"ticks\":\"\",\"zerolinecolor\":\"white\"}},\"shapedefaults\":{\"line\":{\"color\":\"#2a3f5f\"}},\"ternary\":{\"aaxis\":{\"gridcolor\":\"white\",\"linecolor\":\"white\",\"ticks\":\"\"},\"baxis\":{\"gridcolor\":\"white\",\"linecolor\":\"white\",\"ticks\":\"\"},\"bgcolor\":\"#E5ECF6\",\"caxis\":{\"gridcolor\":\"white\",\"linecolor\":\"white\",\"ticks\":\"\"}},\"title\":{\"x\":0.05},\"xaxis\":{\"automargin\":true,\"gridcolor\":\"white\",\"linecolor\":\"white\",\"ticks\":\"\",\"title\":{\"standoff\":15},\"zerolinecolor\":\"white\",\"zerolinewidth\":2},\"yaxis\":{\"automargin\":true,\"gridcolor\":\"white\",\"linecolor\":\"white\",\"ticks\":\"\",\"title\":{\"standoff\":15},\"zerolinecolor\":\"white\",\"zerolinewidth\":2}}},\"xaxis\":{\"anchor\":\"y\",\"domain\":[0.0,1.0],\"title\":{\"text\":\"Percentage of population under poverty line\"}},\"yaxis\":{\"anchor\":\"x\",\"domain\":[0.0,1.0],\"title\":{\"text\":\"Murders and Assaults\"}},\"coloraxis\":{\"colorbar\":{\"title\":{\"text\":\"Perc Low Education\"}},\"colorscale\":[[0.0,\"rgb(247, 254, 174)\"],[0.16666666666666666,\"rgb(183, 230, 165)\"],[0.3333333333333333,\"rgb(124, 203, 162)\"],[0.5,\"rgb(70, 174, 160)\"],[0.6666666666666666,\"rgb(8, 144, 153)\"],[0.8333333333333334,\"rgb(0, 113, 139)\"],[1.0,\"rgb(4, 82, 117)\"]]},\"legend\":{\"tracegroupgap\":0},\"title\":{\"text\":\"Positive Correlations Between crime rates and Education Level\"}},                        {\"responsive\": true}                    ).then(function(){\n",
       "                            \n",
       "var gd = document.getElementById('ca38d0f1-a74b-485a-8ea5-02076f762df3');\n",
       "var x = new MutationObserver(function (mutations, observer) {{\n",
       "        var display = window.getComputedStyle(gd).display;\n",
       "        if (!display || display === 'none') {{\n",
       "            console.log([gd, 'removed!']);\n",
       "            Plotly.purge(gd);\n",
       "            observer.disconnect();\n",
       "        }}\n",
       "}});\n",
       "\n",
       "// Listen for the removal of the full notebook cells\n",
       "var notebookContainer = gd.closest('#notebook-container');\n",
       "if (notebookContainer) {{\n",
       "    x.observe(notebookContainer, {childList: true});\n",
       "}}\n",
       "\n",
       "// Listen for the clearing of the current output cell\n",
       "var outputEl = gd.closest('.output');\n",
       "if (outputEl) {{\n",
       "    x.observe(outputEl, {childList: true});\n",
       "}}\n",
       "\n",
       "                        })                };                });            </script>        </div>"
      ]
     },
     "metadata": {},
     "output_type": "display_data"
    }
   ],
   "source": [
    "crime_education_scatter = px.scatter(poverty_crime, y = \"assault_homicide\", x = \"below_poverty_level\", title = \"Positive Correlations Between crime rates and Education Level\",\n",
    "            hover_data=['community_area_name'], color = \"no_high_school_diploma\",\n",
    "            color_continuous_scale=px.colors.sequential.Bluyl,\n",
    "            labels= {\"assault_homicide\": \"Murders and Assaults\", \"community_area_name\": \"Community in Chicago\", \"below_poverty_level\": \"Percentage of population under poverty line\", \n",
    "            \"no_high_school_diploma\": \"Perc Low Education\"}, trendline=\"ols\")\n",
    "#crime_education_scatter.update_layout(legend_title_text=\"Perc Low Education\")\n",
    "crime_education_scatter.show()"
   ]
  }
 ],
 "metadata": {
  "interpreter": {
   "hash": "bde5000f994c3fec0be2ee74e6d81040ba85d283cb9ad15d4029316a61c79627"
  },
  "kernelspec": {
   "display_name": "Python 3.10.2 64-bit",
   "language": "python",
   "name": "python3"
  },
  "language_info": {
   "codemirror_mode": {
    "name": "ipython",
    "version": 3
   },
   "file_extension": ".py",
   "mimetype": "text/x-python",
   "name": "python",
   "nbconvert_exporter": "python",
   "pygments_lexer": "ipython3",
   "version": "3.8.10"
  },
  "orig_nbformat": 4
 },
 "nbformat": 4,
 "nbformat_minor": 2
}
