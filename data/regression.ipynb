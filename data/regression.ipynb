{
 "cells": [
  {
   "cell_type": "code",
   "execution_count": 2,
   "metadata": {},
   "outputs": [],
   "source": [
    "from sklearn import datasets, linear_model \n",
    "from sklearn.linear_model import LinearRegression \n",
    "import statsmodels.api as sm\n",
    "from scipy import stats\n",
    "import pandas as pd "
   ]
  },
  {
   "cell_type": "code",
   "execution_count": 4,
   "metadata": {},
   "outputs": [],
   "source": [
    "data_name = \"food_data.csv\"\n",
    "data = pd.read_csv(data_name)"
   ]
  },
  {
   "cell_type": "code",
   "execution_count": 5,
   "metadata": {},
   "outputs": [
    {
     "name": "stdout",
     "output_type": "stream",
     "text": [
      "                            OLS Regression Results                            \n",
      "==============================================================================\n",
      "Dep. Variable:             crime_rate   R-squared:                       0.646\n",
      "Model:                            OLS   Adj. R-squared:                  0.619\n",
      "Method:                 Least Squares   F-statistic:                     24.04\n",
      "Date:                Tue, 15 Mar 2022   Prob (F-statistic):           1.09e-13\n",
      "Time:                        15:22:38   Log-Likelihood:                -541.46\n",
      "No. Observations:                  72   AIC:                             1095.\n",
      "Df Residuals:                      66   BIC:                             1109.\n",
      "Df Model:                           5                                         \n",
      "Covariance Type:            nonrobust                                         \n",
      "===========================================================================================================\n",
      "                                              coef    std err          t      P>|t|      [0.025      0.975]\n",
      "-----------------------------------------------------------------------------------------------------------\n",
      "const                                    -573.2677    467.415     -1.226      0.224   -1506.491     359.956\n",
      "population                                  0.0002      0.003      0.076      0.940      -0.006       0.006\n",
      "poverty_rate                               56.7379      6.283      9.030      0.000      44.193      69.283\n",
      "low_food_access                             1.4434      2.611      0.553      0.582      -3.769       6.655\n",
      "adult_fruit_and_vegetable_servings_rate    10.8397      9.361      1.158      0.251      -7.850      29.529\n",
      "adult_soda_consumption_rate                 9.1671      6.889      1.331      0.188      -4.587      22.921\n",
      "==============================================================================\n",
      "Omnibus:                       25.047   Durbin-Watson:                   1.353\n",
      "Prob(Omnibus):                  0.000   Jarque-Bera (JB):               59.060\n",
      "Skew:                           1.097   Prob(JB):                     1.50e-13\n",
      "Kurtosis:                       6.857   Cond. No.                     3.58e+05\n",
      "==============================================================================\n",
      "\n",
      "Notes:\n",
      "[1] Standard Errors assume that the covariance matrix of the errors is correctly specified.\n",
      "[2] The condition number is large, 3.58e+05. This might indicate that there are\n",
      "strong multicollinearity or other numerical problems.\n"
     ]
    }
   ],
   "source": [
    "X = data[[\"population\", \"poverty_rate\",  \"low_food_access\", \"adult_fruit_and_vegetable_servings_rate\", \"adult_soda_consumption_rate\"]]\n",
    "y = data[\"crime_rate\"]\n",
    "\n",
    "X2 = sm.add_constant(X) \n",
    "est = sm.OLS(y, X2)\n",
    "est2 = est.fit()\n",
    "print(est2.summary())"
   ]
  },
  {
   "cell_type": "code",
   "execution_count": 6,
   "metadata": {},
   "outputs": [
    {
     "name": "stdout",
     "output_type": "stream",
     "text": [
      "                            OLS Regression Results                            \n",
      "==============================================================================\n",
      "Dep. Variable:             crime_rate   R-squared:                       0.206\n",
      "Model:                            OLS   Adj. R-squared:                  0.183\n",
      "Method:                 Least Squares   F-statistic:                     8.930\n",
      "Date:                Tue, 15 Mar 2022   Prob (F-statistic):           0.000356\n",
      "Time:                        15:22:43   Log-Likelihood:                -570.52\n",
      "No. Observations:                  72   AIC:                             1147.\n",
      "Df Residuals:                      69   BIC:                             1154.\n",
      "Df Model:                           2                                         \n",
      "Covariance Type:            nonrobust                                         \n",
      "===========================================================================================================\n",
      "                                              coef    std err          t      P>|t|      [0.025      0.975]\n",
      "-----------------------------------------------------------------------------------------------------------\n",
      "const                                     445.2531    542.597      0.821      0.415    -637.199    1527.705\n",
      "adult_fruit_and_vegetable_servings_rate    -5.0575     12.942     -0.391      0.697     -30.876      20.761\n",
      "adult_soda_consumption_rate                28.0174      8.838      3.170      0.002      10.387      45.648\n",
      "==============================================================================\n",
      "Omnibus:                       10.094   Durbin-Watson:                   0.971\n",
      "Prob(Omnibus):                  0.006   Jarque-Bera (JB):               10.150\n",
      "Skew:                           0.896   Prob(JB):                      0.00625\n",
      "Kurtosis:                       3.417   Cond. No.                         268.\n",
      "==============================================================================\n",
      "\n",
      "Notes:\n",
      "[1] Standard Errors assume that the covariance matrix of the errors is correctly specified.\n"
     ]
    }
   ],
   "source": [
    "X3 = sm.add_constant(X.iloc[:, 3:5]) \n",
    "est2 = sm.OLS(y, X3)\n",
    "est_fit = est2.fit()\n",
    "print(est_fit.summary())"
   ]
  }
 ],
 "metadata": {
  "interpreter": {
   "hash": "edb0ae1b0804fecb4fba6143541e04fd53a8019f59627cebc4dcfa9f7a439118"
  },
  "kernelspec": {
   "display_name": "Python 3.8.10 64-bit (windows store)",
   "language": "python",
   "name": "python3"
  },
  "language_info": {
   "codemirror_mode": {
    "name": "ipython",
    "version": 3
   },
   "file_extension": ".py",
   "mimetype": "text/x-python",
   "name": "python",
   "nbconvert_exporter": "python",
   "pygments_lexer": "ipython3",
   "version": "3.8.10"
  },
  "orig_nbformat": 4
 },
 "nbformat": 4,
 "nbformat_minor": 2
}
